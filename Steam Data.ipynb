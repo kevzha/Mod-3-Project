{
 "cells": [
  {
   "cell_type": "code",
   "execution_count": 5,
   "metadata": {},
   "outputs": [],
   "source": [
    "import requests\n",
    "import pandas as pd\n",
    "import json\n",
    "import time\n"
   ]
  },
  {
   "cell_type": "code",
   "execution_count": 2,
   "metadata": {},
   "outputs": [],
   "source": [
    "steam_api = '36C900AB6E40D1DEDECB52718D7B2DF1'"
   ]
  },
  {
   "cell_type": "code",
   "execution_count": 3,
   "metadata": {},
   "outputs": [],
   "source": [
    "def get_reviews(appid, start_offset=0, fil='updated', review_type='all'):\n",
    "    url = 'https://store.steampowered.com'\n",
    "    reviews = '/appreviews/'\n",
    "    p = {'day_range':'9223372036854775807', \n",
    "         'start_offset':start_offset, \n",
    "         'language':'english', \n",
    "         'filter':fil, \n",
    "         'review_type':review_type,\n",
    "         'purchase_type':'all'}\n",
    "    r = requests.get(url+reviews+str(appid)+'?json=1?', params=p).json()\n",
    "    return r"
   ]
  },
  {
   "cell_type": "code",
   "execution_count": 4,
   "metadata": {},
   "outputs": [
    {
     "data": {
      "text/plain": [
       "{'response': {'player_count': 880849, 'result': 1}}"
      ]
     },
     "execution_count": 4,
     "metadata": {},
     "output_type": "execute_result"
    }
   ],
   "source": [
    "p = {'appid':570 }\n",
    "requests.get('https://api.steampowered.com/ISteamUserStats/GetNumberOfCurrentPlayers/v1/', params = p).json()"
   ]
  },
  {
   "cell_type": "code",
   "execution_count": 5,
   "metadata": {},
   "outputs": [],
   "source": [
    "reviews = get_reviews(413150)"
   ]
  },
  {
   "cell_type": "code",
   "execution_count": 6,
   "metadata": {},
   "outputs": [],
   "source": [
    "def make_dataframe(df):\n",
    "    return pd.DataFrame(df)"
   ]
  },
  {
   "cell_type": "code",
   "execution_count": 7,
   "metadata": {},
   "outputs": [],
   "source": [
    "def get_review_content(df):\n",
    "    return [df['reviews'][i]['review'] for i in range(len(df['reviews']))]"
   ]
  },
  {
   "cell_type": "code",
   "execution_count": 8,
   "metadata": {},
   "outputs": [
    {
     "data": {
      "text/html": [
       "<div>\n",
       "<style scoped>\n",
       "    .dataframe tbody tr th:only-of-type {\n",
       "        vertical-align: middle;\n",
       "    }\n",
       "\n",
       "    .dataframe tbody tr th {\n",
       "        vertical-align: top;\n",
       "    }\n",
       "\n",
       "    .dataframe thead th {\n",
       "        text-align: right;\n",
       "    }\n",
       "</style>\n",
       "<table border=\"1\" class=\"dataframe\">\n",
       "  <thead>\n",
       "    <tr style=\"text-align: right;\">\n",
       "      <th></th>\n",
       "      <th>0</th>\n",
       "    </tr>\n",
       "  </thead>\n",
       "  <tbody>\n",
       "    <tr>\n",
       "      <th>0</th>\n",
       "      <td>An incredible experience, you must play this a...</td>\n",
       "    </tr>\n",
       "    <tr>\n",
       "      <th>1</th>\n",
       "      <td>I never made a review for this? Whoops... Get ...</td>\n",
       "    </tr>\n",
       "    <tr>\n",
       "      <th>2</th>\n",
       "      <td>i love this game so much, thanks ConcernedApe.</td>\n",
       "    </tr>\n",
       "    <tr>\n",
       "      <th>3</th>\n",
       "      <td>Awsome game can recomend it for every one who ...</td>\n",
       "    </tr>\n",
       "    <tr>\n",
       "      <th>4</th>\n",
       "      <td>very gud dating sim got goth gf and then got f...</td>\n",
       "    </tr>\n",
       "    <tr>\n",
       "      <th>5</th>\n",
       "      <td>So far love this game. I highly recommend if y...</td>\n",
       "    </tr>\n",
       "    <tr>\n",
       "      <th>6</th>\n",
       "      <td>An absolutely amazing game, full of depth. I i...</td>\n",
       "    </tr>\n",
       "    <tr>\n",
       "      <th>7</th>\n",
       "      <td>as once the great johntron said (TTTEEEEENNNN)</td>\n",
       "    </tr>\n",
       "    <tr>\n",
       "      <th>8</th>\n",
       "      <td>When I played this well developed and thought ...</td>\n",
       "    </tr>\n",
       "    <tr>\n",
       "      <th>9</th>\n",
       "      <td>bad bad</td>\n",
       "    </tr>\n",
       "    <tr>\n",
       "      <th>10</th>\n",
       "      <td>It's alright.</td>\n",
       "    </tr>\n",
       "    <tr>\n",
       "      <th>11</th>\n",
       "      <td>chillest game ever</td>\n",
       "    </tr>\n",
       "    <tr>\n",
       "      <th>12</th>\n",
       "      <td>finally a simulator where i can farm AND be gay</td>\n",
       "    </tr>\n",
       "    <tr>\n",
       "      <th>13</th>\n",
       "      <td>good game</td>\n",
       "    </tr>\n",
       "    <tr>\n",
       "      <th>14</th>\n",
       "      <td>Very nice game with many hours of gameplay.</td>\n",
       "    </tr>\n",
       "    <tr>\n",
       "      <th>15</th>\n",
       "      <td>Amazing game. The solo play gives you a nice e...</td>\n",
       "    </tr>\n",
       "    <tr>\n",
       "      <th>16</th>\n",
       "      <td>Love this game!\\n\\nI'm not a big gamer and oft...</td>\n",
       "    </tr>\n",
       "    <tr>\n",
       "      <th>17</th>\n",
       "      <td>I've played this game for 118 HOURS!.. not str...</td>\n",
       "    </tr>\n",
       "    <tr>\n",
       "      <th>18</th>\n",
       "      <td>Reaffirmed my goal of one day owning a hobby f...</td>\n",
       "    </tr>\n",
       "    <tr>\n",
       "      <th>19</th>\n",
       "      <td>Get the game</td>\n",
       "    </tr>\n",
       "  </tbody>\n",
       "</table>\n",
       "</div>"
      ],
      "text/plain": [
       "                                                    0\n",
       "0   An incredible experience, you must play this a...\n",
       "1   I never made a review for this? Whoops... Get ...\n",
       "2      i love this game so much, thanks ConcernedApe.\n",
       "3   Awsome game can recomend it for every one who ...\n",
       "4   very gud dating sim got goth gf and then got f...\n",
       "5   So far love this game. I highly recommend if y...\n",
       "6   An absolutely amazing game, full of depth. I i...\n",
       "7      as once the great johntron said (TTTEEEEENNNN)\n",
       "8   When I played this well developed and thought ...\n",
       "9                                             bad bad\n",
       "10                                      It's alright.\n",
       "11                                 chillest game ever\n",
       "12    finally a simulator where i can farm AND be gay\n",
       "13                                          good game\n",
       "14        Very nice game with many hours of gameplay.\n",
       "15  Amazing game. The solo play gives you a nice e...\n",
       "16  Love this game!\\n\\nI'm not a big gamer and oft...\n",
       "17  I've played this game for 118 HOURS!.. not str...\n",
       "18  Reaffirmed my goal of one day owning a hobby f...\n",
       "19                                       Get the game"
      ]
     },
     "execution_count": 8,
     "metadata": {},
     "output_type": "execute_result"
    }
   ],
   "source": [
    "make_dataframe(get_review_content(reviews))"
   ]
  },
  {
   "cell_type": "code",
   "execution_count": 475,
   "metadata": {},
   "outputs": [
    {
     "data": {
      "text/plain": [
       "\"[h1]Stardew Valley Review[/h1]\\nNowadays when other companies in the gaming industries are trying their best to grab player's money, Stardew Valley still stays the same. It has a unique, simple gameplay, the event settings, the season cycle, the fishing experience and the music in game, there are just so much we can love about in this game, it really makes people feel relaxed while playing. This is honestly the best choice to just chill with your friends! \\nI can't say enough on how much I recommend this game, i mean just get it straight away, there is barely any sales on this game through out the years from what I've known of! \\nHope this review helps the people who are wondering around :D \\n\""
      ]
     },
     "execution_count": 475,
     "metadata": {},
     "output_type": "execute_result"
    }
   ],
   "source": [
    "reviews['reviews'][8]['review']"
   ]
  },
  {
   "cell_type": "code",
   "execution_count": 472,
   "metadata": {
    "scrolled": false
   },
   "outputs": [
    {
     "data": {
      "text/html": [
       "<div>\n",
       "<style scoped>\n",
       "    .dataframe tbody tr th:only-of-type {\n",
       "        vertical-align: middle;\n",
       "    }\n",
       "\n",
       "    .dataframe tbody tr th {\n",
       "        vertical-align: top;\n",
       "    }\n",
       "\n",
       "    .dataframe thead th {\n",
       "        text-align: right;\n",
       "    }\n",
       "</style>\n",
       "<table border=\"1\" class=\"dataframe\">\n",
       "  <thead>\n",
       "    <tr style=\"text-align: right;\">\n",
       "      <th></th>\n",
       "      <th>author</th>\n",
       "      <th>comment_count</th>\n",
       "      <th>language</th>\n",
       "      <th>received_for_free</th>\n",
       "      <th>recommendationid</th>\n",
       "      <th>review</th>\n",
       "      <th>steam_purchase</th>\n",
       "      <th>timestamp_created</th>\n",
       "      <th>timestamp_updated</th>\n",
       "      <th>voted_up</th>\n",
       "      <th>votes_funny</th>\n",
       "      <th>votes_up</th>\n",
       "      <th>weighted_vote_score</th>\n",
       "      <th>written_during_early_access</th>\n",
       "    </tr>\n",
       "  </thead>\n",
       "  <tbody>\n",
       "    <tr>\n",
       "      <th>0</th>\n",
       "      <td>{'steamid': '76561198200919343', 'num_games_ow...</td>\n",
       "      <td>0</td>\n",
       "      <td>english</td>\n",
       "      <td>False</td>\n",
       "      <td>49381720</td>\n",
       "      <td>Pretty cool game if you like farming and adven...</td>\n",
       "      <td>False</td>\n",
       "      <td>1551811062</td>\n",
       "      <td>1551811062</td>\n",
       "      <td>True</td>\n",
       "      <td>0</td>\n",
       "      <td>0</td>\n",
       "      <td>0</td>\n",
       "      <td>False</td>\n",
       "    </tr>\n",
       "    <tr>\n",
       "      <th>1</th>\n",
       "      <td>{'steamid': '76561198081987043', 'num_games_ow...</td>\n",
       "      <td>0</td>\n",
       "      <td>english</td>\n",
       "      <td>False</td>\n",
       "      <td>49381632</td>\n",
       "      <td>Stardew Valley is easily one of my favourite g...</td>\n",
       "      <td>True</td>\n",
       "      <td>1551810746</td>\n",
       "      <td>1551810746</td>\n",
       "      <td>True</td>\n",
       "      <td>0</td>\n",
       "      <td>0</td>\n",
       "      <td>0</td>\n",
       "      <td>False</td>\n",
       "    </tr>\n",
       "  </tbody>\n",
       "</table>\n",
       "</div>"
      ],
      "text/plain": [
       "                                              author  comment_count language  \\\n",
       "0  {'steamid': '76561198200919343', 'num_games_ow...              0  english   \n",
       "1  {'steamid': '76561198081987043', 'num_games_ow...              0  english   \n",
       "\n",
       "   received_for_free recommendationid  \\\n",
       "0              False         49381720   \n",
       "1              False         49381632   \n",
       "\n",
       "                                              review  steam_purchase  \\\n",
       "0  Pretty cool game if you like farming and adven...           False   \n",
       "1  Stardew Valley is easily one of my favourite g...            True   \n",
       "\n",
       "   timestamp_created  timestamp_updated  voted_up  votes_funny  votes_up  \\\n",
       "0         1551811062         1551811062      True            0         0   \n",
       "1         1551810746         1551810746      True            0         0   \n",
       "\n",
       "  weighted_vote_score  written_during_early_access  \n",
       "0                   0                        False  \n",
       "1                   0                        False  "
      ]
     },
     "execution_count": 472,
     "metadata": {},
     "output_type": "execute_result"
    }
   ],
   "source": [
    "make_dataframe(reviews['reviews']).head(2)"
   ]
  },
  {
   "cell_type": "code",
   "execution_count": 30,
   "metadata": {},
   "outputs": [],
   "source": [
    "def get_hrs_playtime(df):\n",
    "    time = [df['reviews'][i]['author']['playtime_forever'] for i in range(len(df['reviews']))]\n",
    "    hours = [round(time[j]/60,2) for j in range(len(time))]\n",
    "    return hours"
   ]
  },
  {
   "cell_type": "code",
   "execution_count": 366,
   "metadata": {
    "scrolled": true
   },
   "outputs": [
    {
     "data": {
      "text/plain": [
       "[62.82,\n",
       " 365.73,\n",
       " 337.02,\n",
       " 13.82,\n",
       " 15.83,\n",
       " 63.55,\n",
       " 14.32,\n",
       " 2.18,\n",
       " 24.83,\n",
       " 8.48,\n",
       " 121.55,\n",
       " 66.95,\n",
       " 91.78,\n",
       " 97.73,\n",
       " 108.78,\n",
       " 61.37,\n",
       " 194.58,\n",
       " 121.87,\n",
       " 220.07,\n",
       " 22.75]"
      ]
     },
     "execution_count": 366,
     "metadata": {},
     "output_type": "execute_result"
    }
   ],
   "source": [
    "get_hrs_playtime(reviews)"
   ]
  },
  {
   "cell_type": "code",
   "execution_count": 336,
   "metadata": {
    "scrolled": true
   },
   "outputs": [
    {
     "data": {
      "text/plain": [
       "{'steamid': '76561198200919343',\n",
       " 'num_games_owned': 33,\n",
       " 'num_reviews': 2,\n",
       " 'playtime_forever': 3769,\n",
       " 'playtime_last_two_weeks': 0,\n",
       " 'last_played': 1549715406}"
      ]
     },
     "execution_count": 336,
     "metadata": {},
     "output_type": "execute_result"
    }
   ],
   "source": [
    "reviews['reviews'][0]['author']"
   ]
  },
  {
   "cell_type": "code",
   "execution_count": 31,
   "metadata": {},
   "outputs": [],
   "source": [
    "def get_voted(df):\n",
    "    return [df['reviews'][i]['voted_up'] for i in range(len(reviews['reviews']))]"
   ]
  },
  {
   "cell_type": "code",
   "execution_count": 451,
   "metadata": {},
   "outputs": [
    {
     "data": {
      "text/plain": [
       "[True,\n",
       " True,\n",
       " True,\n",
       " True,\n",
       " True,\n",
       " True,\n",
       " True,\n",
       " True,\n",
       " True,\n",
       " True,\n",
       " True,\n",
       " True,\n",
       " True,\n",
       " True,\n",
       " True,\n",
       " True,\n",
       " True,\n",
       " True,\n",
       " True,\n",
       " True]"
      ]
     },
     "execution_count": 451,
     "metadata": {},
     "output_type": "execute_result"
    }
   ],
   "source": [
    "get_voted(reviews)"
   ]
  },
  {
   "cell_type": "code",
   "execution_count": 305,
   "metadata": {},
   "outputs": [],
   "source": [
    "def epoch_convert(epoch):\n",
    "    return time.strftime('%Y-%m-%d %H:%M:%S', time.localtime(epoch))"
   ]
  },
  {
   "cell_type": "code",
   "execution_count": 306,
   "metadata": {},
   "outputs": [
    {
     "data": {
      "text/plain": [
       "'2019-03-05 13:37:42'"
      ]
     },
     "execution_count": 306,
     "metadata": {},
     "output_type": "execute_result"
    }
   ],
   "source": [
    "epoch_convert(reviews['reviews'][0]['timestamp_created'])"
   ]
  },
  {
   "cell_type": "code",
   "execution_count": 32,
   "metadata": {},
   "outputs": [],
   "source": [
    "def get_steamlist():\n",
    "    return requests.get('http://api.steampowered.com/ISteamApps/GetAppList/v0002/').json()"
   ]
  },
  {
   "cell_type": "code",
   "execution_count": 33,
   "metadata": {},
   "outputs": [],
   "source": [
    "steam_games = get_steamlist()\n",
    "games = make_dataframe(steam_games['applist']['apps'])"
   ]
  },
  {
   "cell_type": "code",
   "execution_count": 46,
   "metadata": {},
   "outputs": [
    {
     "data": {
      "text/plain": [
       "76495"
      ]
     },
     "execution_count": 46,
     "metadata": {},
     "output_type": "execute_result"
    }
   ],
   "source": [
    "len(games)"
   ]
  },
  {
   "cell_type": "code",
   "execution_count": 36,
   "metadata": {
    "scrolled": true
   },
   "outputs": [
    {
     "data": {
      "text/html": [
       "<div>\n",
       "<style scoped>\n",
       "    .dataframe tbody tr th:only-of-type {\n",
       "        vertical-align: middle;\n",
       "    }\n",
       "\n",
       "    .dataframe tbody tr th {\n",
       "        vertical-align: top;\n",
       "    }\n",
       "\n",
       "    .dataframe thead th {\n",
       "        text-align: right;\n",
       "    }\n",
       "</style>\n",
       "<table border=\"1\" class=\"dataframe\">\n",
       "  <thead>\n",
       "    <tr style=\"text-align: right;\">\n",
       "      <th></th>\n",
       "      <th>appid</th>\n",
       "      <th>name</th>\n",
       "    </tr>\n",
       "  </thead>\n",
       "  <tbody>\n",
       "    <tr>\n",
       "      <th>29641</th>\n",
       "      <td>5</td>\n",
       "      <td>Dedicated Server</td>\n",
       "    </tr>\n",
       "    <tr>\n",
       "      <th>29642</th>\n",
       "      <td>7</td>\n",
       "      <td>Steam Client</td>\n",
       "    </tr>\n",
       "    <tr>\n",
       "      <th>29643</th>\n",
       "      <td>8</td>\n",
       "      <td>winui2</td>\n",
       "    </tr>\n",
       "    <tr>\n",
       "      <th>74370</th>\n",
       "      <td>10</td>\n",
       "      <td>Counter-Strike</td>\n",
       "    </tr>\n",
       "    <tr>\n",
       "      <th>74373</th>\n",
       "      <td>20</td>\n",
       "      <td>Team Fortress Classic</td>\n",
       "    </tr>\n",
       "    <tr>\n",
       "      <th>74374</th>\n",
       "      <td>30</td>\n",
       "      <td>Day of Defeat</td>\n",
       "    </tr>\n",
       "    <tr>\n",
       "      <th>74379</th>\n",
       "      <td>40</td>\n",
       "      <td>Deathmatch Classic</td>\n",
       "    </tr>\n",
       "    <tr>\n",
       "      <th>74375</th>\n",
       "      <td>50</td>\n",
       "      <td>Half-Life: Opposing Force</td>\n",
       "    </tr>\n",
       "    <tr>\n",
       "      <th>74376</th>\n",
       "      <td>60</td>\n",
       "      <td>Ricochet</td>\n",
       "    </tr>\n",
       "    <tr>\n",
       "      <th>74380</th>\n",
       "      <td>70</td>\n",
       "      <td>Half-Life</td>\n",
       "    </tr>\n",
       "    <tr>\n",
       "      <th>74377</th>\n",
       "      <td>80</td>\n",
       "      <td>Counter-Strike: Condition Zero</td>\n",
       "    </tr>\n",
       "    <tr>\n",
       "      <th>74378</th>\n",
       "      <td>90</td>\n",
       "      <td>Half-Life Dedicated Server</td>\n",
       "    </tr>\n",
       "    <tr>\n",
       "      <th>29640</th>\n",
       "      <td>92</td>\n",
       "      <td>Codename Gordon</td>\n",
       "    </tr>\n",
       "    <tr>\n",
       "      <th>74371</th>\n",
       "      <td>100</td>\n",
       "      <td>Counter-Strike: Condition Zero Deleted Scenes</td>\n",
       "    </tr>\n",
       "    <tr>\n",
       "      <th>74372</th>\n",
       "      <td>130</td>\n",
       "      <td>Half-Life: Blue Shift</td>\n",
       "    </tr>\n",
       "    <tr>\n",
       "      <th>29609</th>\n",
       "      <td>150</td>\n",
       "      <td>Counter-Strike Steamworks Beta</td>\n",
       "    </tr>\n",
       "    <tr>\n",
       "      <th>29610</th>\n",
       "      <td>205</td>\n",
       "      <td>Source Dedicated Server</td>\n",
       "    </tr>\n",
       "    <tr>\n",
       "      <th>29611</th>\n",
       "      <td>210</td>\n",
       "      <td>Source Dedicated Server</td>\n",
       "    </tr>\n",
       "    <tr>\n",
       "      <th>29612</th>\n",
       "      <td>211</td>\n",
       "      <td>Source SDK</td>\n",
       "    </tr>\n",
       "    <tr>\n",
       "      <th>29613</th>\n",
       "      <td>215</td>\n",
       "      <td>Source SDK Base 2006</td>\n",
       "    </tr>\n",
       "    <tr>\n",
       "      <th>29614</th>\n",
       "      <td>218</td>\n",
       "      <td>Source SDK Base 2007</td>\n",
       "    </tr>\n",
       "    <tr>\n",
       "      <th>29615</th>\n",
       "      <td>219</td>\n",
       "      <td>Half-Life 2: Demo</td>\n",
       "    </tr>\n",
       "    <tr>\n",
       "      <th>29616</th>\n",
       "      <td>220</td>\n",
       "      <td>Half-Life 2</td>\n",
       "    </tr>\n",
       "    <tr>\n",
       "      <th>72546</th>\n",
       "      <td>240</td>\n",
       "      <td>Counter-Strike: Source</td>\n",
       "    </tr>\n",
       "    <tr>\n",
       "      <th>29617</th>\n",
       "      <td>260</td>\n",
       "      <td>Counter-Strike: Source Beta</td>\n",
       "    </tr>\n",
       "    <tr>\n",
       "      <th>29618</th>\n",
       "      <td>280</td>\n",
       "      <td>Half-Life: Source</td>\n",
       "    </tr>\n",
       "    <tr>\n",
       "      <th>29619</th>\n",
       "      <td>300</td>\n",
       "      <td>Day of Defeat: Source</td>\n",
       "    </tr>\n",
       "    <tr>\n",
       "      <th>29620</th>\n",
       "      <td>304</td>\n",
       "      <td>Day of Defeat: Source Press Review</td>\n",
       "    </tr>\n",
       "    <tr>\n",
       "      <th>29621</th>\n",
       "      <td>310</td>\n",
       "      <td>Source 2007 Dedicated Server</td>\n",
       "    </tr>\n",
       "    <tr>\n",
       "      <th>29622</th>\n",
       "      <td>320</td>\n",
       "      <td>Half-Life 2: Deathmatch</td>\n",
       "    </tr>\n",
       "    <tr>\n",
       "      <th>...</th>\n",
       "      <td>...</td>\n",
       "      <td>...</td>\n",
       "    </tr>\n",
       "    <tr>\n",
       "      <th>76047</th>\n",
       "      <td>1053580</td>\n",
       "      <td>Hentai Shooter 2 - Uncensored Art Collection</td>\n",
       "    </tr>\n",
       "    <tr>\n",
       "      <th>74510</th>\n",
       "      <td>1053660</td>\n",
       "      <td>Chaos Starter</td>\n",
       "    </tr>\n",
       "    <tr>\n",
       "      <th>75954</th>\n",
       "      <td>1053730</td>\n",
       "      <td>Foxyland 2</td>\n",
       "    </tr>\n",
       "    <tr>\n",
       "      <th>75111</th>\n",
       "      <td>1053780</td>\n",
       "      <td>Pixel Art Monster - Color by Number</td>\n",
       "    </tr>\n",
       "    <tr>\n",
       "      <th>73622</th>\n",
       "      <td>1053810</td>\n",
       "      <td>The World Next Door - Original Soundtrack</td>\n",
       "    </tr>\n",
       "    <tr>\n",
       "      <th>73623</th>\n",
       "      <td>1053860</td>\n",
       "      <td>The World Next Door - Prelude Comic</td>\n",
       "    </tr>\n",
       "    <tr>\n",
       "      <th>74634</th>\n",
       "      <td>1053960</td>\n",
       "      <td>Bot Battles</td>\n",
       "    </tr>\n",
       "    <tr>\n",
       "      <th>73828</th>\n",
       "      <td>1054130</td>\n",
       "      <td>Crankies Workshop: Bozzbot Assembly Wall Paper...</td>\n",
       "    </tr>\n",
       "    <tr>\n",
       "      <th>73091</th>\n",
       "      <td>1054140</td>\n",
       "      <td>Crankies Workshop: Bozzbot Assembly Sound Track</td>\n",
       "    </tr>\n",
       "    <tr>\n",
       "      <th>73829</th>\n",
       "      <td>1054220</td>\n",
       "      <td>Crankies Workshop: Grizzbot Assembly 2 Wall Pa...</td>\n",
       "    </tr>\n",
       "    <tr>\n",
       "      <th>73830</th>\n",
       "      <td>1054230</td>\n",
       "      <td>Crankies Workshop: Grizzbot Assembly 2 Sound T...</td>\n",
       "    </tr>\n",
       "    <tr>\n",
       "      <th>73290</th>\n",
       "      <td>1054240</td>\n",
       "      <td>Easy puzzle: Animals</td>\n",
       "    </tr>\n",
       "    <tr>\n",
       "      <th>73291</th>\n",
       "      <td>1054250</td>\n",
       "      <td>krAsAvA Shot</td>\n",
       "    </tr>\n",
       "    <tr>\n",
       "      <th>73749</th>\n",
       "      <td>1054350</td>\n",
       "      <td>Lost and Hound</td>\n",
       "    </tr>\n",
       "    <tr>\n",
       "      <th>73237</th>\n",
       "      <td>1054360</td>\n",
       "      <td>Bunny girl for Boobs 'em up - Wallpaper</td>\n",
       "    </tr>\n",
       "    <tr>\n",
       "      <th>75706</th>\n",
       "      <td>1054430</td>\n",
       "      <td>Fling to the Finish</td>\n",
       "    </tr>\n",
       "    <tr>\n",
       "      <th>74765</th>\n",
       "      <td>1054530</td>\n",
       "      <td>Little Witch Nobeta Demo</td>\n",
       "    </tr>\n",
       "    <tr>\n",
       "      <th>75658</th>\n",
       "      <td>1054560</td>\n",
       "      <td>Alice in Stardom</td>\n",
       "    </tr>\n",
       "    <tr>\n",
       "      <th>74455</th>\n",
       "      <td>1054610</td>\n",
       "      <td>Chocolate makes you happy: Easter</td>\n",
       "    </tr>\n",
       "    <tr>\n",
       "      <th>73888</th>\n",
       "      <td>1054620</td>\n",
       "      <td>Vengeful Bat Dungeon Crawler</td>\n",
       "    </tr>\n",
       "    <tr>\n",
       "      <th>74098</th>\n",
       "      <td>1054670</td>\n",
       "      <td>Hentai DLC for Nyasha Winter</td>\n",
       "    </tr>\n",
       "    <tr>\n",
       "      <th>76378</th>\n",
       "      <td>1054750</td>\n",
       "      <td>Magic Farm 2: Fairy Lands (Premium Edition)</td>\n",
       "    </tr>\n",
       "    <tr>\n",
       "      <th>74344</th>\n",
       "      <td>1054780</td>\n",
       "      <td>Kickstarter Skin - Digital Harvester</td>\n",
       "    </tr>\n",
       "    <tr>\n",
       "      <th>74666</th>\n",
       "      <td>1054880</td>\n",
       "      <td>女友与我的恋爱日常 Demo</td>\n",
       "    </tr>\n",
       "    <tr>\n",
       "      <th>75256</th>\n",
       "      <td>1054950</td>\n",
       "      <td>Starstruck</td>\n",
       "    </tr>\n",
       "    <tr>\n",
       "      <th>76471</th>\n",
       "      <td>1054960</td>\n",
       "      <td>The Walsingham Files: Chapter 1 OST + Director...</td>\n",
       "    </tr>\n",
       "    <tr>\n",
       "      <th>74345</th>\n",
       "      <td>1055440</td>\n",
       "      <td>Kickstarter Skin - Mining Crew Foreman</td>\n",
       "    </tr>\n",
       "    <tr>\n",
       "      <th>74346</th>\n",
       "      <td>1055550</td>\n",
       "      <td>Kickstarter Skin - Corporation VP</td>\n",
       "    </tr>\n",
       "    <tr>\n",
       "      <th>74651</th>\n",
       "      <td>1055720</td>\n",
       "      <td>Gears of Eden - Alpha 2 Demo</td>\n",
       "    </tr>\n",
       "    <tr>\n",
       "      <th>7680</th>\n",
       "      <td>2028850</td>\n",
       "      <td>Bioshock Infinite: Columbia's Finest</td>\n",
       "    </tr>\n",
       "  </tbody>\n",
       "</table>\n",
       "<p>76495 rows × 2 columns</p>\n",
       "</div>"
      ],
      "text/plain": [
       "         appid                                               name\n",
       "29641        5                                   Dedicated Server\n",
       "29642        7                                       Steam Client\n",
       "29643        8                                             winui2\n",
       "74370       10                                     Counter-Strike\n",
       "74373       20                              Team Fortress Classic\n",
       "74374       30                                      Day of Defeat\n",
       "74379       40                                 Deathmatch Classic\n",
       "74375       50                          Half-Life: Opposing Force\n",
       "74376       60                                           Ricochet\n",
       "74380       70                                          Half-Life\n",
       "74377       80                     Counter-Strike: Condition Zero\n",
       "74378       90                         Half-Life Dedicated Server\n",
       "29640       92                                    Codename Gordon\n",
       "74371      100      Counter-Strike: Condition Zero Deleted Scenes\n",
       "74372      130                              Half-Life: Blue Shift\n",
       "29609      150                     Counter-Strike Steamworks Beta\n",
       "29610      205                            Source Dedicated Server\n",
       "29611      210                            Source Dedicated Server\n",
       "29612      211                                         Source SDK\n",
       "29613      215                               Source SDK Base 2006\n",
       "29614      218                               Source SDK Base 2007\n",
       "29615      219                                  Half-Life 2: Demo\n",
       "29616      220                                        Half-Life 2\n",
       "72546      240                             Counter-Strike: Source\n",
       "29617      260                        Counter-Strike: Source Beta\n",
       "29618      280                                  Half-Life: Source\n",
       "29619      300                              Day of Defeat: Source\n",
       "29620      304                 Day of Defeat: Source Press Review\n",
       "29621      310                       Source 2007 Dedicated Server\n",
       "29622      320                            Half-Life 2: Deathmatch\n",
       "...        ...                                                ...\n",
       "76047  1053580       Hentai Shooter 2 - Uncensored Art Collection\n",
       "74510  1053660                                      Chaos Starter\n",
       "75954  1053730                                         Foxyland 2\n",
       "75111  1053780                Pixel Art Monster - Color by Number\n",
       "73622  1053810          The World Next Door - Original Soundtrack\n",
       "73623  1053860                The World Next Door - Prelude Comic\n",
       "74634  1053960                                        Bot Battles\n",
       "73828  1054130  Crankies Workshop: Bozzbot Assembly Wall Paper...\n",
       "73091  1054140    Crankies Workshop: Bozzbot Assembly Sound Track\n",
       "73829  1054220  Crankies Workshop: Grizzbot Assembly 2 Wall Pa...\n",
       "73830  1054230  Crankies Workshop: Grizzbot Assembly 2 Sound T...\n",
       "73290  1054240                               Easy puzzle: Animals\n",
       "73291  1054250                                       krAsAvA Shot\n",
       "73749  1054350                                     Lost and Hound\n",
       "73237  1054360            Bunny girl for Boobs 'em up - Wallpaper\n",
       "75706  1054430                                Fling to the Finish\n",
       "74765  1054530                           Little Witch Nobeta Demo\n",
       "75658  1054560                                   Alice in Stardom\n",
       "74455  1054610                  Chocolate makes you happy: Easter\n",
       "73888  1054620                       Vengeful Bat Dungeon Crawler\n",
       "74098  1054670                       Hentai DLC for Nyasha Winter\n",
       "76378  1054750        Magic Farm 2: Fairy Lands (Premium Edition)\n",
       "74344  1054780               Kickstarter Skin - Digital Harvester\n",
       "74666  1054880                                     女友与我的恋爱日常 Demo\n",
       "75256  1054950                                         Starstruck\n",
       "76471  1054960  The Walsingham Files: Chapter 1 OST + Director...\n",
       "74345  1055440             Kickstarter Skin - Mining Crew Foreman\n",
       "74346  1055550                  Kickstarter Skin - Corporation VP\n",
       "74651  1055720                       Gears of Eden - Alpha 2 Demo\n",
       "7680   2028850               Bioshock Infinite: Columbia's Finest\n",
       "\n",
       "[76495 rows x 2 columns]"
      ]
     },
     "execution_count": 36,
     "metadata": {},
     "output_type": "execute_result"
    }
   ],
   "source": [
    "games.sort_values('appid')"
   ]
  },
  {
   "cell_type": "code",
   "execution_count": 37,
   "metadata": {},
   "outputs": [
    {
     "data": {
      "text/plain": [
       "'Starpoint Gemini 3'"
      ]
     },
     "execution_count": 37,
     "metadata": {},
     "output_type": "execute_result"
    }
   ],
   "source": [
    "games['name'][10000]"
   ]
  },
  {
   "cell_type": "code",
   "execution_count": 41,
   "metadata": {},
   "outputs": [],
   "source": [
    "def get_appid(name, games):\n",
    "    for i in range(len(games['name'])):\n",
    "        if games['name'][i].title() == name.title():\n",
    "            return games['appid'][i]\n",
    "    return \"Did not find\""
   ]
  },
  {
   "cell_type": "code",
   "execution_count": 63,
   "metadata": {},
   "outputs": [
    {
     "data": {
      "text/plain": [
       "413150"
      ]
     },
     "execution_count": 63,
     "metadata": {},
     "output_type": "execute_result"
    }
   ],
   "source": [
    "get_appid('stardew valley', games)"
   ]
  },
  {
   "cell_type": "code",
   "execution_count": 17,
   "metadata": {},
   "outputs": [],
   "source": [
    "def get_gamename(appid, games):\n",
    "    for i in range(len(games['name'])):\n",
    "        if games['appid'][i] == appid:\n",
    "            return games['name'][i]\n",
    "    return \"Did not find\""
   ]
  },
  {
   "cell_type": "code",
   "execution_count": 64,
   "metadata": {},
   "outputs": [
    {
     "data": {
      "text/plain": [
       "'Stardew Valley'"
      ]
     },
     "execution_count": 64,
     "metadata": {},
     "output_type": "execute_result"
    }
   ],
   "source": [
    "get_gamename(413150, games)"
   ]
  },
  {
   "cell_type": "code",
   "execution_count": 2,
   "metadata": {},
   "outputs": [],
   "source": [
    "def get_game_info(appid):\n",
    "    url = 'https://store.steampowered.com'\n",
    "    ids = str(appid)\n",
    "    r = requests.get(url+'/api/appdetails?appids='+ids).json()\n",
    "    return r"
   ]
  },
  {
   "cell_type": "code",
   "execution_count": 16,
   "metadata": {
    "scrolled": true
   },
   "outputs": [
    {
     "name": "stdout",
     "output_type": "stream",
     "text": [
      "0.5721480846405029\n"
     ]
    }
   ],
   "source": [
    "import time\n",
    "start = time.time()\n",
    "game_info = get_game_info(332190)\n",
    "print(time.time() - start)"
   ]
  },
  {
   "cell_type": "code",
   "execution_count": 17,
   "metadata": {},
   "outputs": [
    {
     "data": {
      "text/plain": [
       "{'332190': {'success': False}}"
      ]
     },
     "execution_count": 17,
     "metadata": {},
     "output_type": "execute_result"
    }
   ],
   "source": [
    "game_info"
   ]
  },
  {
   "cell_type": "code",
   "execution_count": 13,
   "metadata": {
    "scrolled": false
   },
   "outputs": [
    {
     "data": {
      "text/plain": [
       "dict_keys(['type', 'name', 'steam_appid', 'required_age', 'is_free', 'dlc', 'detailed_description', 'about_the_game', 'short_description', 'supported_languages', 'reviews', 'header_image', 'website', 'pc_requirements', 'mac_requirements', 'linux_requirements', 'developers', 'publishers', 'price_overview', 'packages', 'package_groups', 'platforms', 'metacritic', 'categories', 'genres', 'screenshots', 'movies', 'recommendations', 'achievements', 'release_date', 'support_info', 'background', 'content_descriptors'])"
      ]
     },
     "execution_count": 13,
     "metadata": {},
     "output_type": "execute_result"
    }
   ],
   "source": [
    "game_info['413150']['data'].keys()"
   ]
  },
  {
   "cell_type": "code",
   "execution_count": 18,
   "metadata": {},
   "outputs": [
    {
     "ename": "KeyError",
     "evalue": "'data'",
     "output_type": "error",
     "traceback": [
      "\u001b[0;31m---------------------------------------------------------------------------\u001b[0m",
      "\u001b[0;31mKeyError\u001b[0m                                  Traceback (most recent call last)",
      "\u001b[0;32m<ipython-input-18-c06d26cfb053>\u001b[0m in \u001b[0;36m<module>\u001b[0;34m\u001b[0m\n\u001b[0;32m----> 1\u001b[0;31m \u001b[0mgame_info\u001b[0m\u001b[0;34m[\u001b[0m\u001b[0;34m'332190'\u001b[0m\u001b[0;34m]\u001b[0m\u001b[0;34m[\u001b[0m\u001b[0;34m'data'\u001b[0m\u001b[0;34m]\u001b[0m\u001b[0;34m\u001b[0m\u001b[0;34m\u001b[0m\u001b[0m\n\u001b[0m",
      "\u001b[0;31mKeyError\u001b[0m: 'data'"
     ]
    }
   ],
   "source": [
    "game_info['332190']['data']"
   ]
  },
  {
   "cell_type": "code",
   "execution_count": null,
   "metadata": {},
   "outputs": [],
   "source": []
  }
 ],
 "metadata": {
  "kernelspec": {
   "display_name": "Python 3",
   "language": "python",
   "name": "python3"
  },
  "language_info": {
   "codemirror_mode": {
    "name": "ipython",
    "version": 3
   },
   "file_extension": ".py",
   "mimetype": "text/x-python",
   "name": "python",
   "nbconvert_exporter": "python",
   "pygments_lexer": "ipython3",
   "version": "3.7.1"
  }
 },
 "nbformat": 4,
 "nbformat_minor": 2
}
