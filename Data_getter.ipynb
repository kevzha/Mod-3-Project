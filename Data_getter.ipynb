{
 "cells": [
  {
   "cell_type": "code",
   "execution_count": 33,
   "metadata": {},
   "outputs": [
    {
     "name": "stdout",
     "output_type": "stream",
     "text": [
      "The autoreload extension is already loaded. To reload it, use:\n",
      "  %reload_ext autoreload\n"
     ]
    },
    {
     "name": "stderr",
     "output_type": "stream",
     "text": [
      "[autoreload of data_getter failed: Traceback (most recent call last):\n",
      "  File \"/Users/flatironschool/anaconda3/lib/python3.7/site-packages/IPython/extensions/autoreload.py\", line 244, in check\n",
      "  File \"/Users/flatironschool/anaconda3/lib/python3.7/site-packages/IPython/extensions/autoreload.py\", line 376, in superreload\n",
      "  File \"/Users/flatironschool/anaconda3/lib/python3.7/imp.py\", line 314, in reload\n",
      "  File \"/Users/flatironschool/anaconda3/lib/python3.7/importlib/__init__.py\", line 169, in reload\n",
      "  File \"<frozen importlib._bootstrap>\", line 630, in _exec\n",
      "  File \"<frozen importlib._bootstrap_external>\", line 728, in exec_module\n",
      "  File \"<frozen importlib._bootstrap>\", line 219, in _call_with_frames_removed\n",
      "  File \"/Users/flatironschool/Desktop/class-labs/Mod-3/Mod-3-Project/data_getter.py\", line 8, in <module>\n",
      "    games = open_save_data(\"games.json\")\n",
      "NameError: name 'open_save_data' is not defined\n",
      "]\n"
     ]
    },
    {
     "ename": "ModuleNotFoundError",
     "evalue": "spec not found for the module 'autoreload'",
     "output_type": "error",
     "traceback": [
      "\u001b[0;31m---------------------------------------------------------------------------\u001b[0m",
      "\u001b[0;31mModuleNotFoundError\u001b[0m                       Traceback (most recent call last)",
      "\u001b[0;32m<ipython-input-33-6dc8c4ad698a>\u001b[0m in \u001b[0;36m<module>\u001b[0;34m\u001b[0m\n\u001b[1;32m      1\u001b[0m \u001b[0mget_ipython\u001b[0m\u001b[0;34m(\u001b[0m\u001b[0;34m)\u001b[0m\u001b[0;34m.\u001b[0m\u001b[0mrun_line_magic\u001b[0m\u001b[0;34m(\u001b[0m\u001b[0;34m'load_ext'\u001b[0m\u001b[0;34m,\u001b[0m \u001b[0;34m'autoreload'\u001b[0m\u001b[0;34m)\u001b[0m\u001b[0;34m\u001b[0m\u001b[0;34m\u001b[0m\u001b[0m\n\u001b[1;32m      2\u001b[0m \u001b[0mget_ipython\u001b[0m\u001b[0;34m(\u001b[0m\u001b[0;34m)\u001b[0m\u001b[0;34m.\u001b[0m\u001b[0mrun_line_magic\u001b[0m\u001b[0;34m(\u001b[0m\u001b[0;34m'autoreload'\u001b[0m\u001b[0;34m,\u001b[0m \u001b[0;34m'2'\u001b[0m\u001b[0;34m)\u001b[0m\u001b[0;34m\u001b[0m\u001b[0;34m\u001b[0m\u001b[0m\n\u001b[0;32m----> 3\u001b[0;31m \u001b[0mget_ipython\u001b[0m\u001b[0;34m(\u001b[0m\u001b[0;34m)\u001b[0m\u001b[0;34m.\u001b[0m\u001b[0mrun_line_magic\u001b[0m\u001b[0;34m(\u001b[0m\u001b[0;34m'reload_ext'\u001b[0m\u001b[0;34m,\u001b[0m \u001b[0;34m'autoreload'\u001b[0m\u001b[0;34m)\u001b[0m\u001b[0;34m\u001b[0m\u001b[0;34m\u001b[0m\u001b[0m\n\u001b[0m\u001b[1;32m      4\u001b[0m \u001b[0;32mfrom\u001b[0m \u001b[0mdata_getter\u001b[0m \u001b[0;32mimport\u001b[0m \u001b[0;34m*\u001b[0m\u001b[0;34m\u001b[0m\u001b[0;34m\u001b[0m\u001b[0m\n",
      "\u001b[0;32m~/anaconda3/lib/python3.7/site-packages/IPython/core/interactiveshell.py\u001b[0m in \u001b[0;36mrun_line_magic\u001b[0;34m(self, magic_name, line, _stack_depth)\u001b[0m\n",
      "\u001b[0;32m<decorator-gen-67>\u001b[0m in \u001b[0;36mreload_ext\u001b[0;34m(self, module_str)\u001b[0m\n",
      "\u001b[0;32m~/anaconda3/lib/python3.7/site-packages/IPython/core/magic.py\u001b[0m in \u001b[0;36m<lambda>\u001b[0;34m(f, *a, **k)\u001b[0m\n",
      "\u001b[0;32m~/anaconda3/lib/python3.7/site-packages/IPython/core/magics/extension.py\u001b[0m in \u001b[0;36mreload_ext\u001b[0;34m(self, module_str)\u001b[0m\n",
      "\u001b[0;32m~/anaconda3/lib/python3.7/site-packages/IPython/core/extensions.py\u001b[0m in \u001b[0;36mreload_extension\u001b[0;34m(self, module_str)\u001b[0m\n",
      "\u001b[0;32m~/anaconda3/lib/python3.7/importlib/__init__.py\u001b[0m in \u001b[0;36mreload\u001b[0;34m(module)\u001b[0m\n",
      "\u001b[0;31mModuleNotFoundError\u001b[0m: spec not found for the module 'autoreload'"
     ]
    }
   ],
   "source": [
    "%load_ext autoreload\n",
    "%autoreload 2\n",
    "%reload_ext autoreload\n",
    "from data_getter import *"
   ]
  },
  {
   "cell_type": "code",
   "execution_count": 5,
   "metadata": {},
   "outputs": [],
   "source": [
    "games = open_save_data(\"games.json\")"
   ]
  },
  {
   "cell_type": "code",
   "execution_count": 31,
   "metadata": {},
   "outputs": [
    {
     "data": {
      "text/plain": [
       "{'appid': 1013580, 'name': 'Manna for our Malices'}"
      ]
     },
     "execution_count": 31,
     "metadata": {},
     "output_type": "execute_result"
    }
   ],
   "source": [
    "games[1]"
   ]
  },
  {
   "cell_type": "code",
   "execution_count": 7,
   "metadata": {
    "collapsed": true
   },
   "outputs": [
    {
     "name": "stdout",
     "output_type": "stream",
     "text": [
      "0 1.3\n",
      "100 1.5\n",
      "200 1.4\n",
      "300 1.0\n",
      "400 1.1\n",
      "500 1.4\n",
      "600 1.1\n",
      "700 1.4\n",
      "800 1.2\n",
      "900 1.4\n",
      "1000 1.0\n",
      "1100 1.5\n",
      "1200 1.1\n",
      "1300 1.4\n",
      "1400 1.1\n",
      "1500 1.3\n",
      "1600 1.2\n",
      "1700 1.3\n",
      "1800 1.5\n",
      "1900 1.0\n",
      "2000 1.2\n",
      "2100 1.3\n",
      "2200 1.3\n",
      "2300 1.1\n",
      "2400 1.2\n",
      "2500 1.4\n",
      "2600 1.3\n",
      "2700 1.3\n",
      "2800 1.3\n",
      "2900 1.0\n",
      "3000 1.1\n",
      "3100 1.3\n",
      "3200 1.2\n",
      "3300 1.1\n",
      "3400 1.2\n",
      "3500 1.1\n",
      "3600 1.2\n",
      "3700 1.1\n",
      "3800 1.5\n",
      "3900 1.4\n",
      "4000 1.1\n",
      "4100 1.4\n",
      "4200 1.2\n",
      "4300 1.2\n",
      "4400 1.5\n",
      "4500 1.5\n",
      "4600 1.0\n",
      "4700 1.4\n",
      "4800 1.0\n",
      "4900 1.4\n",
      "5000 1.4\n",
      "5100 1.2\n",
      "5200 1.0\n",
      "5300 1.0\n",
      "5400 1.1\n",
      "5500 1.0\n",
      "5600 1.3\n",
      "5700 1.5\n",
      "5800 1.5\n",
      "5900 1.0\n",
      "6000 1.4\n",
      "6100 1.5\n",
      "6200 1.2\n",
      "6300 1.5\n",
      "6400 1.3\n",
      "6500 1.1\n",
      "6600 1.1\n",
      "6700 1.3\n",
      "6800 1.0\n",
      "6900 1.2\n",
      "7000 1.3\n",
      "7100 1.2\n",
      "7200 1.3\n",
      "7300 1.4\n",
      "7400 1.2\n",
      "7500 1.1\n",
      "7600 1.2\n",
      "7700 1.5\n",
      "7800 1.4\n",
      "7900 1.4\n",
      "8000 1.3\n",
      "8100 1.1\n",
      "8200 1.1\n",
      "8300 1.5\n",
      "8400 1.1\n",
      "8500 1.3\n",
      "8600 1.2\n",
      "8700 1.2\n",
      "8800 1.5\n",
      "8900 1.4\n",
      "9000 1.3\n",
      "9100 1.5\n",
      "9200 1.5\n",
      "9300 1.0\n",
      "9400 1.1\n",
      "9500 1.0\n",
      "9600 1.3\n",
      "9700 1.1\n",
      "9800 1.2\n",
      "9900 1.0\n"
     ]
    }
   ],
   "source": [
    "test_30k = retrieve_steam_data(20000, 30000)"
   ]
  },
  {
   "cell_type": "code",
   "execution_count": 8,
   "metadata": {},
   "outputs": [],
   "source": [
    "save_data(test_30k, \"30K_data.json\")"
   ]
  },
  {
   "cell_type": "code",
   "execution_count": 29,
   "metadata": {},
   "outputs": [
    {
     "name": "stdout",
     "output_type": "stream",
     "text": [
      "0 1.3\n",
      "100 1.4\n",
      "200 1.3\n",
      "300 1.4\n",
      "400 1.3\n",
      "500 1.0\n",
      "600 1.1\n",
      "700 1.4\n",
      "800 1.1\n",
      "900 1.0\n",
      "1000 Saved!\n",
      "1100 1.3\n",
      "1200 1.0\n",
      "1300 1.4\n",
      "1400 1.1\n",
      "1500 1.2\n",
      "1600 1.2\n",
      "1700 1.1\n",
      "1800 1.0\n",
      "1900 1.1\n",
      "2000 Saved!\n",
      "2100 1.3\n",
      "2200 1.1\n",
      "2300 1.1\n",
      "2400 1.2\n",
      "2500 1.3\n",
      "2600 1.5\n",
      "2700 1.0\n",
      "2800 1.4\n",
      "2900 1.4\n",
      "3000 Saved!\n",
      "3100 1.2\n",
      "3200 1.5\n",
      "3300 1.0\n",
      "3400 1.0\n",
      "3500 1.3\n",
      "3600 1.4\n",
      "3700 1.2\n",
      "3800 1.0\n",
      "3900 1.1\n",
      "4000 Saved!\n",
      "4100 1.4\n",
      "4200 1.4\n",
      "4300 1.3\n",
      "4400 1.2\n",
      "4500 1.5\n",
      "4600 1.2\n",
      "4700 1.0\n",
      "4800 1.3\n",
      "4900 1.0\n",
      "5000 Saved!\n",
      "5100 1.1\n",
      "5200 1.1\n",
      "5300 1.2\n",
      "5400 1.2\n",
      "5500 1.4\n",
      "5600 1.1\n",
      "5700 1.3\n",
      "5800 1.4\n",
      "5900 1.4\n",
      "6000 Saved!\n",
      "6100 1.0\n",
      "6200 1.2\n",
      "6300 1.0\n",
      "6400 1.0\n",
      "6500 1.1\n",
      "6600 1.3\n",
      "6700 1.3\n",
      "6800 1.4\n",
      "6900 1.2\n",
      "7000 Saved!\n",
      "7100 1.4\n",
      "7200 1.5\n",
      "7300 1.0\n",
      "7400 1.2\n",
      "7500 1.4\n",
      "7600 1.1\n",
      "7700 1.4\n",
      "7800 1.3\n",
      "7900 1.3\n",
      "8000 Saved!\n",
      "8100 1.5\n",
      "8200 1.3\n",
      "8300 1.1\n",
      "8400 1.5\n",
      "8500 1.1\n",
      "8600 1.2\n",
      "8700 1.5\n",
      "8800 1.5\n",
      "8900 1.4\n",
      "9000 Saved!\n",
      "9100 1.3\n",
      "9200 1.4\n",
      "9300 1.4\n",
      "9400 1.1\n",
      "9500 1.3\n",
      "9600 1.5\n",
      "9700 1.3\n",
      "9800 1.2\n",
      "9900 1.2\n",
      "10000 Saved!\n",
      "10100 1.3\n",
      "10200 1.3\n",
      "10300 1.0\n",
      "10400 1.3\n",
      "10500 1.1\n",
      "10600 1.5\n",
      "10700 1.2\n",
      "10800 1.0\n",
      "10900 1.5\n"
     ]
    }
   ],
   "source": [
    "test_76K = retrieve_steam_data(65000, 76000)"
   ]
  },
  {
   "cell_type": "code",
   "execution_count": 30,
   "metadata": {},
   "outputs": [],
   "source": [
    "save_data(test_76K, \"76K_data.json\")"
   ]
  },
  {
   "cell_type": "code",
   "execution_count": null,
   "metadata": {},
   "outputs": [],
   "source": []
  }
 ],
 "metadata": {
  "kernelspec": {
   "display_name": "Python 3",
   "language": "python",
   "name": "python3"
  },
  "language_info": {
   "codemirror_mode": {
    "name": "ipython",
    "version": 3
   },
   "file_extension": ".py",
   "mimetype": "text/x-python",
   "name": "python",
   "nbconvert_exporter": "python",
   "pygments_lexer": "ipython3",
   "version": "3.7.1"
  }
 },
 "nbformat": 4,
 "nbformat_minor": 2
}
