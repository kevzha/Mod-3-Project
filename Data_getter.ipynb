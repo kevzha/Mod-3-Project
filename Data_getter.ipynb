{
 "cells": [
  {
   "cell_type": "code",
<<<<<<< HEAD
   "execution_count": 15,
=======
   "execution_count": 13,
>>>>>>> 22b6ab7d7c903979df92966085e54888bcdd5f21
   "metadata": {},
   "outputs": [
    {
     "name": "stdout",
     "output_type": "stream",
     "text": [
      "The autoreload extension is already loaded. To reload it, use:\n",
      "  %reload_ext autoreload\n"
     ]
    }
   ],
   "source": [
    "%load_ext autoreload\n",
    "%autoreload 2\n",
    "%reload_ext autoreload\n",
    "from data_getter import *"
   ]
  },
  {
   "cell_type": "code",
   "execution_count": 5,
   "metadata": {},
   "outputs": [],
   "source": [
    "games = open_save_data(\"games.json\")"
   ]
  },
  {
   "cell_type": "code",
   "execution_count": 7,
   "metadata": {
    "collapsed": true
   },
   "outputs": [
    {
     "name": "stdout",
     "output_type": "stream",
     "text": [
      "0 1.3\n",
      "100 1.5\n",
      "200 1.4\n",
      "300 1.0\n",
      "400 1.1\n",
      "500 1.4\n",
      "600 1.1\n",
      "700 1.4\n",
      "800 1.2\n",
      "900 1.4\n",
      "1000 1.0\n",
      "1100 1.5\n",
      "1200 1.1\n",
      "1300 1.4\n",
      "1400 1.1\n",
      "1500 1.3\n",
      "1600 1.2\n",
      "1700 1.3\n",
      "1800 1.5\n",
      "1900 1.0\n",
      "2000 1.2\n",
      "2100 1.3\n",
      "2200 1.3\n",
      "2300 1.1\n",
      "2400 1.2\n",
      "2500 1.4\n",
      "2600 1.3\n",
      "2700 1.3\n",
      "2800 1.3\n",
      "2900 1.0\n",
      "3000 1.1\n",
      "3100 1.3\n",
      "3200 1.2\n",
      "3300 1.1\n",
      "3400 1.2\n",
      "3500 1.1\n",
      "3600 1.2\n",
      "3700 1.1\n",
      "3800 1.5\n",
      "3900 1.4\n",
      "4000 1.1\n",
      "4100 1.4\n",
      "4200 1.2\n",
      "4300 1.2\n",
      "4400 1.5\n",
      "4500 1.5\n",
      "4600 1.0\n",
      "4700 1.4\n",
      "4800 1.0\n",
      "4900 1.4\n",
      "5000 1.4\n",
      "5100 1.2\n",
      "5200 1.0\n",
      "5300 1.0\n",
      "5400 1.1\n",
      "5500 1.0\n",
      "5600 1.3\n",
      "5700 1.5\n",
      "5800 1.5\n",
      "5900 1.0\n",
      "6000 1.4\n",
      "6100 1.5\n",
      "6200 1.2\n",
      "6300 1.5\n",
      "6400 1.3\n",
      "6500 1.1\n",
      "6600 1.1\n",
      "6700 1.3\n",
      "6800 1.0\n",
      "6900 1.2\n",
      "7000 1.3\n",
      "7100 1.2\n",
      "7200 1.3\n",
      "7300 1.4\n",
      "7400 1.2\n",
      "7500 1.1\n",
      "7600 1.2\n",
      "7700 1.5\n",
      "7800 1.4\n",
      "7900 1.4\n",
      "8000 1.3\n",
      "8100 1.1\n",
      "8200 1.1\n",
      "8300 1.5\n",
      "8400 1.1\n",
      "8500 1.3\n",
      "8600 1.2\n",
      "8700 1.2\n",
      "8800 1.5\n",
      "8900 1.4\n",
      "9000 1.3\n",
      "9100 1.5\n",
      "9200 1.5\n",
      "9300 1.0\n",
      "9400 1.1\n",
      "9500 1.0\n",
      "9600 1.3\n",
      "9700 1.1\n",
      "9800 1.2\n",
      "9900 1.0\n"
     ]
    }
   ],
   "source": [
    "test_30k = retrieve_steam_data(20000, 30000)"
   ]
  },
  {
   "cell_type": "code",
   "execution_count": 8,
   "metadata": {},
   "outputs": [],
   "source": [
    "save_data(test_30k, \"30K_data.json\")"
   ]
  },
  {
   "cell_type": "code",
<<<<<<< HEAD
   "execution_count": 29,
=======
   "execution_count": 14,
>>>>>>> 22b6ab7d7c903979df92966085e54888bcdd5f21
   "metadata": {},
   "outputs": [
    {
     "name": "stdout",
     "output_type": "stream",
     "text": [
<<<<<<< HEAD
      "0 1.3\n",
      "100 1.4\n",
      "200 1.3\n",
      "300 1.4\n",
      "400 1.3\n",
      "500 1.0\n",
      "600 1.1\n",
      "700 1.4\n",
      "800 1.1\n",
      "900 1.0\n",
      "1000 Saved!\n",
      "1100 1.3\n",
      "1200 1.0\n",
      "1300 1.4\n",
      "1400 1.1\n",
      "1500 1.2\n",
      "1600 1.2\n",
      "1700 1.1\n",
      "1800 1.0\n",
      "1900 1.1\n",
      "2000 Saved!\n",
      "2100 1.3\n",
      "2200 1.1\n",
      "2300 1.1\n",
      "2400 1.2\n",
      "2500 1.3\n",
      "2600 1.5\n",
      "2700 1.0\n",
      "2800 1.4\n",
      "2900 1.4\n",
      "3000 Saved!\n",
      "3100 1.2\n",
      "3200 1.5\n",
      "3300 1.0\n",
      "3400 1.0\n",
      "3500 1.3\n",
      "3600 1.4\n",
      "3700 1.2\n",
      "3800 1.0\n",
      "3900 1.1\n",
      "4000 Saved!\n",
      "4100 1.4\n",
      "4200 1.4\n",
      "4300 1.3\n",
      "4400 1.2\n",
      "4500 1.5\n",
      "4600 1.2\n",
      "4700 1.0\n",
      "4800 1.3\n",
      "4900 1.0\n",
      "5000 Saved!\n",
      "5100 1.1\n",
      "5200 1.1\n",
      "5300 1.2\n",
      "5400 1.2\n",
      "5500 1.4\n",
      "5600 1.1\n",
      "5700 1.3\n",
      "5800 1.4\n",
      "5900 1.4\n",
      "6000 Saved!\n",
      "6100 1.0\n",
      "6200 1.2\n",
      "6300 1.0\n",
      "6400 1.0\n",
      "6500 1.1\n",
      "6600 1.3\n",
      "6700 1.3\n",
      "6800 1.4\n",
      "6900 1.2\n",
      "7000 Saved!\n",
      "7100 1.4\n",
      "7200 1.5\n",
      "7300 1.0\n",
      "7400 1.2\n",
      "7500 1.4\n",
      "7600 1.1\n",
      "7700 1.4\n",
      "7800 1.3\n",
      "7900 1.3\n",
      "8000 Saved!\n",
      "8100 1.5\n",
      "8200 1.3\n",
      "8300 1.1\n",
      "8400 1.5\n",
      "8500 1.1\n",
      "8600 1.2\n",
      "8700 1.5\n",
      "8800 1.5\n",
      "8900 1.4\n",
      "9000 Saved!\n",
      "9100 1.3\n",
      "9200 1.4\n",
      "9300 1.4\n",
      "9400 1.1\n",
      "9500 1.3\n",
      "9600 1.5\n",
      "9700 1.3\n",
      "9800 1.2\n",
      "9900 1.2\n",
      "10000 Saved!\n",
      "10100 1.3\n",
      "10200 1.3\n",
      "10300 1.0\n",
      "10400 1.3\n",
      "10500 1.1\n",
      "10600 1.5\n",
      "10700 1.2\n",
      "10800 1.0\n",
      "10900 1.5\n"
=======
      "0 1.1\n",
      "0 1.2\n",
      "100 1.0\n",
      "200 1.2\n",
      "300 1.3\n",
      "400 1.3\n",
      "500 1.2\n",
      "500 1.4\n"
>>>>>>> 22b6ab7d7c903979df92966085e54888bcdd5f21
     ]
    }
   ],
   "source": [
<<<<<<< HEAD
    "test_76K = retrieve_steam_data(65000, 76000)"
=======
    "test_30501 = retrieve_steam_data(30000, 30501)"
>>>>>>> 22b6ab7d7c903979df92966085e54888bcdd5f21
   ]
  },
  {
   "cell_type": "code",
<<<<<<< HEAD
   "execution_count": 30,
   "metadata": {},
   "outputs": [],
   "source": [
    "save_data(test_76K, \"76K_data.json\")"
=======
   "execution_count": null,
   "metadata": {},
   "outputs": [],
   "source": [
    "save_data(test_50k, \"50K_data.json\")"
   ]
  },
  {
   "cell_type": "code",
   "execution_count": 11,
   "metadata": {},
   "outputs": [
    {
     "data": {
      "text/plain": [
       "{'550700': {'success': True,\n",
       "  'data': {'type': 'demo',\n",
       "   'name': 'The Wake Demo',\n",
       "   'steam_appid': 550700,\n",
       "   'required_age': 0,\n",
       "   'is_free': True,\n",
       "   'detailed_description': '<strong>Immerse. Adapt. Survive.</strong><br><br>The Wake: Trick vr Treat is our demo that encapsulates the heart of the game: Melee combat vs legions of undead. Choose your weapons and try to survive until the ultimate horror arrives.<br><br>The Wake is a groundbreaking Virtual Reality game coming some day to the HTC Vive. Engage in hand-to-hand melee combat in a room-scale survival game unlike anything you have seen or felt. Follow characters through a narrative that will play out in real-time, with professionally motion captured actors and actresses interacting with the player between escalating waves of mutating zombies. To survive, you must use every resource at your disposal, from bare fists to an array of bats, axes, bladed weapons, explosives, guns, and even a 2-handed chainsaw.',\n",
       "   'about_the_game': '<strong>Immerse. Adapt. Survive.</strong><br><br>The Wake: Trick vr Treat is our demo that encapsulates the heart of the game: Melee combat vs legions of undead. Choose your weapons and try to survive until the ultimate horror arrives.<br><br>The Wake is a groundbreaking Virtual Reality game coming some day to the HTC Vive. Engage in hand-to-hand melee combat in a room-scale survival game unlike anything you have seen or felt. Follow characters through a narrative that will play out in real-time, with professionally motion captured actors and actresses interacting with the player between escalating waves of mutating zombies. To survive, you must use every resource at your disposal, from bare fists to an array of bats, axes, bladed weapons, explosives, guns, and even a 2-handed chainsaw.',\n",
       "   'short_description': 'Immerse. Adapt. Survive. Engage in hand-to-hand combat using the HTC Vive, an assortment of weapons, and your will to survive! The Trick vr Treat free demo will give you a taste of the melee action, and give the zombies a taste of your flesh!',\n",
       "   'fullgame': {'appid': '435380', 'name': 'The Wake'},\n",
       "   'supported_languages': 'English<strong>*</strong><br><strong>*</strong>languages with full audio support',\n",
       "   'header_image': 'https://steamcdn-a.akamaihd.net/steam/apps/550700/header.jpg?t=1478041434',\n",
       "   'website': 'http://www.invrse.com/thewake',\n",
       "   'pc_requirements': {'minimum': '<strong>Minimum:</strong><br><ul class=\"bb_ul\"><li><strong>OS:</strong> Windows 7 or greater<br></li><li><strong>Processor:</strong> Intel Core i7 or greater<br></li><li><strong>Graphics:</strong> Nvidia Geforce GTX 970/AMD R9 390<br></li><li><strong>Storage:</strong> 2 GB available space<br></li><li><strong>Additional Notes:</strong> Requires the HTC Vive</li></ul>',\n",
       "    'recommended': '<strong>Recommended:</strong><br><ul class=\"bb_ul\"><li><strong>OS:</strong> Windows 7 or greater<br></li><li><strong>Processor:</strong> Intel Core i7 or greater<br></li><li><strong>Graphics:</strong> GTX 1070<br></li><li><strong>Storage:</strong> 2 GB available space<br></li><li><strong>Additional Notes:</strong> Requires the HTC Vive</li></ul>'},\n",
       "   'mac_requirements': [],\n",
       "   'linux_requirements': [],\n",
       "   'developers': ['Invrse'],\n",
       "   'publishers': ['Invrse'],\n",
       "   'package_groups': [],\n",
       "   'platforms': {'windows': True, 'mac': False, 'linux': False},\n",
       "   'categories': [{'id': 2, 'description': 'Single-player'},\n",
       "    {'id': 10, 'description': 'Game demo'}],\n",
       "   'genres': [{'id': '73', 'description': 'Violent'},\n",
       "    {'id': '74', 'description': 'Gore'},\n",
       "    {'id': '1', 'description': 'Action'}],\n",
       "   'screenshots': [{'id': 0,\n",
       "     'path_thumbnail': 'https://steamcdn-a.akamaihd.net/steam/apps/550700/ss_f15936ea5236a4827aa1f013710f0d9eb59bacd9.600x338.jpg?t=1478041434',\n",
       "     'path_full': 'https://steamcdn-a.akamaihd.net/steam/apps/550700/ss_f15936ea5236a4827aa1f013710f0d9eb59bacd9.1920x1080.jpg?t=1478041434'},\n",
       "    {'id': 1,\n",
       "     'path_thumbnail': 'https://steamcdn-a.akamaihd.net/steam/apps/550700/ss_f80430ace0c29010becc1f496ebc8f74e053c800.600x338.jpg?t=1478041434',\n",
       "     'path_full': 'https://steamcdn-a.akamaihd.net/steam/apps/550700/ss_f80430ace0c29010becc1f496ebc8f74e053c800.1920x1080.jpg?t=1478041434'},\n",
       "    {'id': 2,\n",
       "     'path_thumbnail': 'https://steamcdn-a.akamaihd.net/steam/apps/550700/ss_601095c14bcedc5fa3a4a4637ddea23203d4b9fc.600x338.jpg?t=1478041434',\n",
       "     'path_full': 'https://steamcdn-a.akamaihd.net/steam/apps/550700/ss_601095c14bcedc5fa3a4a4637ddea23203d4b9fc.1920x1080.jpg?t=1478041434'},\n",
       "    {'id': 3,\n",
       "     'path_thumbnail': 'https://steamcdn-a.akamaihd.net/steam/apps/550700/ss_f08892daeb49243e037eda9c4e8c47ee5002be93.600x338.jpg?t=1478041434',\n",
       "     'path_full': 'https://steamcdn-a.akamaihd.net/steam/apps/550700/ss_f08892daeb49243e037eda9c4e8c47ee5002be93.1920x1080.jpg?t=1478041434'},\n",
       "    {'id': 4,\n",
       "     'path_thumbnail': 'https://steamcdn-a.akamaihd.net/steam/apps/550700/ss_dc08bed979e035cfd1bd9b5e36b9dd615066a99d.600x338.jpg?t=1478041434',\n",
       "     'path_full': 'https://steamcdn-a.akamaihd.net/steam/apps/550700/ss_dc08bed979e035cfd1bd9b5e36b9dd615066a99d.1920x1080.jpg?t=1478041434'},\n",
       "    {'id': 5,\n",
       "     'path_thumbnail': 'https://steamcdn-a.akamaihd.net/steam/apps/550700/ss_685b0f3756999f9df63cf1b7f0fe1f287e6d7351.600x338.jpg?t=1478041434',\n",
       "     'path_full': 'https://steamcdn-a.akamaihd.net/steam/apps/550700/ss_685b0f3756999f9df63cf1b7f0fe1f287e6d7351.1920x1080.jpg?t=1478041434'}],\n",
       "   'release_date': {'coming_soon': False, 'date': 'Nov 1, 2016'},\n",
       "   'support_info': {'url': 'www.invrse.com', 'email': 'support@invrse.com'},\n",
       "   'background': 'https://steamcdn-a.akamaihd.net/steam/apps/550700/page_bg_generated_v6b.jpg?t=1478041434',\n",
       "   'content_descriptors': {'ids': [], 'notes': None}}}}"
      ]
     },
     "execution_count": 11,
     "metadata": {},
     "output_type": "execute_result"
    }
   ],
   "source": [
    "test_30k[0]"
>>>>>>> 22b6ab7d7c903979df92966085e54888bcdd5f21
   ]
  },
  {
   "cell_type": "code",
   "execution_count": null,
   "metadata": {},
   "outputs": [],
   "source": []
  }
 ],
 "metadata": {
  "kernelspec": {
   "display_name": "Python 3",
   "language": "python",
   "name": "python3"
  },
  "language_info": {
   "codemirror_mode": {
    "name": "ipython",
    "version": 3
   },
   "file_extension": ".py",
   "mimetype": "text/x-python",
   "name": "python",
   "nbconvert_exporter": "python",
   "pygments_lexer": "ipython3",
   "version": "3.7.1"
  }
 },
 "nbformat": 4,
 "nbformat_minor": 2
}
