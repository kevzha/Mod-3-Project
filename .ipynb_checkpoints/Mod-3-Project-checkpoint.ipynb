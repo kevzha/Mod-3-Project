{
 "cells": [
  {
   "cell_type": "markdown",
   "metadata": {},
   "source": [
    "# Mod 3 Project\n",
    "## Classification of\n",
    "mod3project"
   ]
  },
  {
   "cell_type": "code",
   "execution_count": 401,
   "metadata": {},
   "outputs": [],
   "source": [
    "from bs4 import BeautifulSoup\n",
    "import pandas as pd\n",
    "import json\n",
    "import time\n",
    "import requests\n",
    "import numpy as np\n",
    "import copy"
   ]
  },
  {
   "cell_type": "code",
   "execution_count": 351,
   "metadata": {},
   "outputs": [],
   "source": [
    "import requests \n",
    "\n",
    "api_key = \"cb28b6201d1c2a41e60cadc3c03c53fe\"\n",
    "\n",
    "\n",
    "def get_info(endpoint, start, end): \n",
    "    data = []\n",
    "    url = f'https://api-v3.igdb.com/{endpoint}'\n",
    "    headers = {\n",
    "            'user-key': api_key,\n",
    "        }\n",
    "    field = [\"genres.name\", \"age_ratings.category\", \"age_ratings.rating\",\"aggregated_rating\",\"game_engines.companies\",\n",
    "              \"game_engines.name\", \"release_dates.human\", \"game_modes.name\", \"involved_companies.company.name\", \n",
    "              \"involved_companies.developer\", \"involved_companies.publisher\",\n",
    "              \"multiplayer_modes\",\"platforms\", \"popularity\",\"storyline\", \"summary\", f\"name; where (id > {start}) & (id <={end}) & platforms=(6); limit 50;\"]\n",
    "\n",
    "    parameters = {\n",
    "            \"fields\" : \",\".join(field),\n",
    "#             'filter[id][gte]': '0',\n",
    "#             'filter[self.id][lte]': '1000',\n",
    "    }\n",
    "    igdb_api = requests.get(url, headers=headers, params=parameters)\n",
    "    data.append(igdb_api.json())\n",
    "#     offset += SEARCH_LIMIT\n",
    "#     search_count = data[0][\"total\"] - offset\n",
    "\n",
    "    return data\n",
    "# data = get_all_info()\n",
    "# datab"
   ]
  },
  {
   "cell_type": "code",
   "execution_count": 275,
   "metadata": {},
   "outputs": [],
   "source": [
    "def check_status():\n",
    "    url = 'https://api-v3.igdb.com/api_status'\n",
    "    headers = {\n",
    "            'user-key': api_key,\n",
    "        }\n",
    "    igdb_api = requests.get(url, headers=headers)\n",
    "    return igdb_api.json()\n",
    "\n"
   ]
  },
  {
   "cell_type": "code",
   "execution_count": 385,
   "metadata": {},
   "outputs": [
    {
     "data": {
      "text/plain": [
       "[{'authorized': True,\n",
       "  'plan': 'Free',\n",
       "  'usage_reports': {'usage_report': {'metric': 'hits',\n",
       "    'period': 'month',\n",
       "    'period_start': '2019-03-01 00:00:00 +0000',\n",
       "    'period_end': '2019-04-01 00:00:00 +0000',\n",
       "    'max_value': 10000,\n",
       "    'current_value': 1951}}}]"
      ]
     },
     "execution_count": 385,
     "metadata": {},
     "output_type": "execute_result"
    }
   ],
   "source": [
    "check_status()"
   ]
  },
  {
   "cell_type": "code",
   "execution_count": 361,
   "metadata": {},
   "outputs": [
    {
     "data": {
      "text/plain": [
       "1"
      ]
     },
     "execution_count": 361,
     "metadata": {},
     "output_type": "execute_result"
    }
   ],
   "source": [
    "# explore20 = get_info(\"games\", 14965, 16000)\n",
    "# check = []\n",
    "# for data in explore20[0]:\n",
    "#     check.append(data[\"id\"])\n",
    "#     check = sorted(check)\n",
    "# max(check)\n",
    "len(explore20)"
   ]
  },
  {
   "cell_type": "code",
   "execution_count": 57,
   "metadata": {
    "scrolled": true
   },
   "outputs": [
    {
     "data": {
      "text/plain": [
       "[{'id': 90512, 'name': 'Asian Riddles 4'},\n",
       " {'id': 98774,\n",
       "  'game_modes': [{'id': 1, 'name': 'Single player'}],\n",
       "  'genres': [15, 32],\n",
       "  'name': 'Whitevale Defender',\n",
       "  'summary': 'Help King Theodore save Whitevale from hordes of war machines in this handcrafted, retro strategy defense game.'},\n",
       " {'id': 54981,\n",
       "  'name': 'Banned Memories: Yamanashi',\n",
       "  'summary': 'An indie survival horror game inspired by PS1 low-poly graphics and the likes of early horror titles. The gameplay and visuals feature a retro style with the option to use tank controls and a dualshock controller for an even more authentic experience.'},\n",
       " {'id': 60779,\n",
       "  'genres': [9],\n",
       "  'name': 'Fallen Shadows',\n",
       "  'summary': 'A hidden object game set in a post-Katrina New Orleans'},\n",
       " {'id': 60730,\n",
       "  'genres': [14],\n",
       "  'name': 'Quidditch Manager',\n",
       "  'summary': 'A free quidditch simulation and management browser game.'},\n",
       " {'id': 81332, 'name': 'Stick Fighter II'},\n",
       " {'id': 105842, 'name': 'Robots Vs Zombies: Transform To Race And Fight'},\n",
       " {'id': 64979,\n",
       "  'name': 'World War II: Prisoner of War',\n",
       "  'summary': 'Third person stealth adventure game.'},\n",
       " {'id': 104945,\n",
       "  'game_modes': [{'id': 1, 'name': 'Single player'},\n",
       "   {'id': 3, 'name': 'Co-operative'}],\n",
       "  'genres': [32],\n",
       "  'name': 'Woodpunk',\n",
       "  'summary': 'Woodpunk is an exhiliarating rogue-like experience in a medieval Woodpunk universe, where the primary energy resource is WOOD.'},\n",
       " {'id': 69359,\n",
       "  'name': 'Sunken Secrets',\n",
       "  'summary': 'A mobile fantasy game by Big Fish.'},\n",
       " {'id': 69530, 'name': 'Dai Senryaku VII: Modern Military Tactics'},\n",
       " {'id': 91579, 'name': 'Racing Live'},\n",
       " {'id': 104748, 'name': 'Space station - build your own ISS'},\n",
       " {'id': 17584,\n",
       "  'game_modes': [{'id': 1, 'name': 'Single player'}],\n",
       "  'genres': [32],\n",
       "  'involved_companies': [32413, 32414],\n",
       "  'name': 'Spirit Run: Fire vs. Ice',\n",
       "  'platforms': [6],\n",
       "  'release_dates': [46439],\n",
       "  'summary': 'Get ready for the run of a lifetime. In this endless platformer you play an elemental spirit that has the ability to change form. Spirit Run: Fire vs Ice is inspired by games such as the platformer Canabalt and the classic shoot ‘em up Ikaruga. Jump, slide and transform to reach new heights. Use your spirit powers to change between ice and fire form. Match the elements to dash through fire and water hazards. The goal is to get as far as possible and to collect elemental orbs to multiply your score. Numerous obstacles need to be overcome if you want to compete with the best on the leaderboards. Spirit Run: Fire vs Ice features beautiful pixel art and 8-bit retro soundtrack that takes you back to the golden age of videogames.\\n\\nEndless platforming fun\\t\\nBeautiful retro-style graphics\\t\\nTransform to escape traps and to collect multiplier pick-ups\\t\\nChallenge your friends on the leaderboards\\t\\nIncludes Steam achievements'},\n",
       " {'id': 17164,\n",
       "  'game_modes': [{'id': 1, 'name': 'Single player'}],\n",
       "  'genres': [31, 32],\n",
       "  'involved_companies': [41311],\n",
       "  'name': 'FarSky',\n",
       "  'platforms': [3, 6, 14, 92],\n",
       "  'release_dates': [59930, 59931, 59932, 59933],\n",
       "  'summary': 'With FarSky, you take the role of Nathan who got lost in the Ocean after the crash of his submarine. You need to learn how to survive in the depths of the Ocean. Use the environment to gather resources, build a base to refill your oxygen and manage all your items, craft equipment and weapons to explore and protect yourself in the Ocean depths, create an in-base farm or go fish hunting to feed yourself,...'},\n",
       " {'id': 29783,\n",
       "  'game_modes': [{'id': 1, 'name': 'Single player'}],\n",
       "  'genres': [31, 32],\n",
       "  'involved_companies': [48123],\n",
       "  'name': 'Unlucky Seven',\n",
       "  'platforms': [3, 6, 14],\n",
       "  'release_dates': [132163, 132164, 132165],\n",
       "  'summary': \"A group of friends is going to have a party in a space motel. If only they knew that they're characters of a story-driven game based on slasher and sci-fi movies... Their fate is in your hands - make decisions that alter the game, like totally!\"},\n",
       " {'id': 105254, 'name': 'Codenames'},\n",
       " {'id': 110810,\n",
       "  'game_modes': [{'id': 1, 'name': 'Single player'}],\n",
       "  'genres': [13, 32],\n",
       "  'name': 'Running Naked Simulator 2019',\n",
       "  'summary': 'Rock out with your (8-bit) block out in Running Naked Simulator 2019! Master the gentle art of running naked for everyone to see, and streak through public parks in iconic characters! It’s totally inappropriate!'},\n",
       " {'id': 84208, 'name': 'Y2K: The Game'},\n",
       " {'id': 25763,\n",
       "  'age_ratings': [{'id': 10092, 'category': 1, 'rating': 5},\n",
       "   {'id': 10093, 'category': 2, 'rating': 3}],\n",
       "  'game_engines': [{'id': 404, 'name': 'Unity 3D (duplicate)'}],\n",
       "  'game_modes': [{'id': 1, 'name': 'Single player'}],\n",
       "  'genres': [5, 32, 33],\n",
       "  'involved_companies': [41549],\n",
       "  'name': 'Underload',\n",
       "  'platforms': [6, 82],\n",
       "  'release_dates': [60321, 60322],\n",
       "  'storyline': \"You didn't ask what the diversion was for, you didn't ask for a good teamate and munition too... But the fate of the wourld depend of you (well... you think)\\n\\nSurvive the longest time, fight for your life, and don't forget to get the pieces of your truck back after tossing them.\",\n",
       "  'summary': \"You didn't ask what the diversion was for, you didn't ask for a good teamate and munition too... But the fate of the wourld depend of you (well... you think)\\n\\nSurvive the longest time, fight for your life, and don't forget to get the pieces of your truck back after tossing them.\"},\n",
       " {'id': 101139, 'name': 'Last Saver: Zombie Hunter Master'},\n",
       " {'id': 93987, 'name': 'Pi Story'},\n",
       " {'id': 91756, 'name': 'Aban Hawkins & the 1000 SPIKES'},\n",
       " {'id': 111593,\n",
       "  'game_modes': [{'id': 1, 'name': 'Single player'}],\n",
       "  'genres': [32],\n",
       "  'name': 'Oppai Puzzle',\n",
       "  'summary': 'This is a classic digital jigsaw puzzle that anyone can easily play.'},\n",
       " {'id': 29794,\n",
       "  'game_modes': [{'id': 1, 'name': 'Single player'}],\n",
       "  'genres': [31],\n",
       "  'involved_companies': [48122],\n",
       "  'name': \"Mystery Case Files: The Black Veil Collector's Edition\",\n",
       "  'platforms': [6],\n",
       "  'release_dates': [72534],\n",
       "  'summary': 'Can you stop the townspeople from mysteriously aging?'},\n",
       " {'id': 60787,\n",
       "  'age_ratings': [{'id': 15391, 'category': 1, 'rating': 3}],\n",
       "  'genres': [8],\n",
       "  'name': 'Meme Run',\n",
       "  'platforms': [41],\n",
       "  'release_dates': [121005],\n",
       "  'summary': 'An infinite runner for the Nintendo Wii U.'},\n",
       " {'id': 108593, 'name': \"Toot's Race\"},\n",
       " {'id': 6770,\n",
       "  'age_ratings': [{'id': 5480, 'category': 1, 'rating': 4},\n",
       "   {'id': 23078, 'category': 2, 'rating': 2}],\n",
       "  'aggregated_rating': 74.5555555555556,\n",
       "  'game_modes': [{'id': 1, 'name': 'Single player'}],\n",
       "  'genres': [12, 13],\n",
       "  'involved_companies': [16066, 16067, 20141, 69097],\n",
       "  'multiplayer_modes': [7657],\n",
       "  'name': 'Fantasy Life',\n",
       "  'platforms': [37],\n",
       "  'release_dates': [16334, 21199, 21200, 21201],\n",
       "  'summary': 'Embark on the adventure of your dream life as you craft, cast, fish, mine, battle and explore like never before. With the innovative Life system, your choices don’t just upgrade characters—they help shape your journey. Explore a huge fantasy landscape beside surly dark paladins, slick pirate captains, regal princesses, and others who share your taste for the unknown.'},\n",
       " {'id': 66891,\n",
       "  'age_ratings': [{'id': 16859, 'category': 1, 'rating': 3},\n",
       "   {'id': 16860, 'category': 2, 'rating': 1}],\n",
       "  'involved_companies': [61819],\n",
       "  'name': 'Zoo Frenzy',\n",
       "  'platforms': [159],\n",
       "  'release_dates': [145070, 145071, 145072],\n",
       "  'summary': 'Zoo Frenzy from Gameloft'},\n",
       " {'id': 57729,\n",
       "  'genres': [9],\n",
       "  'name': 'Laserbreak: Esacpe',\n",
       "  'summary': 'A puzzle game from errorsevendev.'},\n",
       " {'id': 90545,\n",
       "  'game_modes': [{'id': 1, 'name': 'Single player'},\n",
       "   {'id': 2, 'name': 'Multiplayer'},\n",
       "   {'id': 5, 'name': 'Massively Multiplayer Online (MMO)'}],\n",
       "  'genres': [13, 15, 32],\n",
       "  'name': 'Rento Fortune - Multiplayer Board Game',\n",
       "  'summary': 'Rento is multiplayer business dice game. It is board game for 2 to 6 players.Trade lands, build houses, win auctions, roll wheel of fortune, risk in Russian Roulette and have fun.Play with your friends on Steam now :)'},\n",
       " {'id': 52661,\n",
       "  'involved_companies': [63161],\n",
       "  'name': 'Pinball Heroes: Modnation Racers',\n",
       "  'platforms': [38],\n",
       "  'release_dates': [104890, 104891]},\n",
       " {'id': 93939, 'name': 'Ranch Rush 2'},\n",
       " {'id': 110811, 'name': 'PitterPot'},\n",
       " {'id': 110812, 'genres': [9, 31], 'name': 'The DOOR'},\n",
       " {'id': 42380,\n",
       "  'genres': [26],\n",
       "  'name': 'Shounin yo, Taishi o Idake!!',\n",
       "  'platforms': [19],\n",
       "  'release_dates': [90407, 117106],\n",
       "  'summary': 'Shounin yo, Taishi o Idake!! (\"Merchants, Be Ambitious!!!\") is a 1995 Japan-exclusive board video game for the Super Famicom.'},\n",
       " {'id': 77650, 'name': 'Super Science Friends'},\n",
       " {'id': 65654,\n",
       "  'genres': [31],\n",
       "  'name': 'Zettai Zetsumei Dangerous Jiisan: Naki no Ikkai',\n",
       "  'summary': 'An adventure game released for the Game Boy Advance in Japan in 2004.'},\n",
       " {'id': 106046, 'name': 'Brain Challenge HD'},\n",
       " {'id': 94975, 'name': 'Wubble Bubbles'},\n",
       " {'id': 29805,\n",
       "  'game_modes': [{'id': 1, 'name': 'Single player'}],\n",
       "  'genres': [10, 32],\n",
       "  'name': 'Diesel Power',\n",
       "  'platforms': [6],\n",
       "  'release_dates': [72582],\n",
       "  'summary': 'Diesel Power is inspired by classic arcade racers and brings their gameplay to VR. \\nBest described with the words: Raw. Challenging. Enraging. Satisfying. One more round! \\n \\nThe goal is simple: Get to the end of the track \\nThe challenge: There is no track'},\n",
       " {'id': 60970,\n",
       "  'genres': [31],\n",
       "  'name': 'Dark Hunter: Shita Youma no Mori',\n",
       "  'platforms': [32],\n",
       "  'release_dates': [121097],\n",
       "  'summary': 'The second part of the Dark Hunter English teaching tool.'},\n",
       " {'id': 85238,\n",
       "  'involved_companies': [61126],\n",
       "  'name': 'Kutar Ski Lift',\n",
       "  'platforms': [37],\n",
       "  'release_dates': [140631, 140632]},\n",
       " {'id': 13724,\n",
       "  'name': 'The Hacker',\n",
       "  'platforms': [69],\n",
       "  'release_dates': [39299]},\n",
       " {'id': 66893,\n",
       "  'name': \"I'm Not Alone\",\n",
       "  'summary': \"I'm Not Alone is a horror game starring Patrick Weber, an exorcist who has been summoned to a mysterious Austrian mansion to free it from supernatural evil. Despite its incredibly low quality, it was released on Steam as a full-priced game.\"},\n",
       " {'id': 78207,\n",
       "  'genres': [13, 14],\n",
       "  'name': 'World Snooker Championship Real 2011',\n",
       "  'summary': 'The current WSC game being developed and published by Dark Energy Sports for PlayStation 3, Xbox 360 and PC, with a planned release during Q2 2011.'},\n",
       " {'id': 44768,\n",
       "  'age_ratings': [{'id': 20266, 'category': 1, 'rating': 3}],\n",
       "  'genres': [10],\n",
       "  'name': 'Micro Maniacs Racing',\n",
       "  'platforms': [7],\n",
       "  'release_dates': [99543],\n",
       "  'summary': 'Micro Maniacs is an unofficial sequel to the Micro Machines racing games and features a similar 3D perspective to the previous game, Micro Machines V3. \\n \\nAs with previous games, the racing environments are based in real-world locations such as kitchens, laboratories and gardens, played \"zoomed in\" due to the miniature nature of the racers \\n \\nThe 12 character choices (some of which are unlockable) are differentiated by various unique attack moves. \\n \\nInstead of racing with vehicles, the Micro Maniacs race on foot.'},\n",
       " {'id': 99434,\n",
       "  'game_modes': [{'id': 1, 'name': 'Single player'}],\n",
       "  'genres': [13, 32],\n",
       "  'name': 'Simple Golfing',\n",
       "  'summary': 'Simple Golfing - is a simple physical game in which you need to throw the ball up the mountain and get to them to the very top. Do not be discouraged if your ball goes down, try again... and then again.'},\n",
       " {'id': 89179, 'name': 'Super Gerball'},\n",
       " {'id': 114732, 'involved_companies': [73881], 'name': 'Jelly Wars'}]"
      ]
     },
     "execution_count": 57,
     "metadata": {},
     "output_type": "execute_result"
    }
   ],
   "source": [
    "explore[0]"
   ]
  },
  {
   "cell_type": "code",
   "execution_count": 83,
   "metadata": {
    "scrolled": true
   },
   "outputs": [
    {
     "data": {
      "text/plain": [
       "({'id': 98774,\n",
       "  'game_modes': [{'id': 1, 'name': 'Single player'}],\n",
       "  'genres': [15, 32],\n",
       "  'name': 'Whitevale Defender',\n",
       "  'summary': 'Help King Theodore save Whitevale from hordes of war machines in this handcrafted, retro strategy defense game.'},\n",
       " {'id': 98774,\n",
       "  'game_modes': [{'id': 1, 'name': 'Single player'}],\n",
       "  'genres': [{'id': 15, 'name': 'Strategy'}, {'id': 32, 'name': 'Indie'}],\n",
       "  'name': 'Whitevale Defender',\n",
       "  'summary': 'Help King Theodore save Whitevale from hordes of war machines in this handcrafted, retro strategy defense game.'})"
      ]
     },
     "execution_count": 83,
     "metadata": {},
     "output_type": "execute_result"
    }
   ],
   "source": [
    "explore[0][1], explore1[0][1]"
   ]
  },
  {
   "cell_type": "code",
   "execution_count": 158,
   "metadata": {},
   "outputs": [
    {
     "name": "stdout",
     "output_type": "stream",
     "text": [
      "Collecting selenium\n",
      "\u001b[?25l  Downloading https://files.pythonhosted.org/packages/80/d6/4294f0b4bce4de0abf13e17190289f9d0613b0a44e5dd6a7f5ca98459853/selenium-3.141.0-py2.py3-none-any.whl (904kB)\n",
      "\u001b[K    100% |████████████████████████████████| 911kB 6.9MB/s ta 0:00:011\n",
      "\u001b[?25hRequirement already satisfied: urllib3 in /Users/flatironschool/anaconda3/lib/python3.7/site-packages (from selenium) (1.24.1)\n",
      "Installing collected packages: selenium\n",
      "Successfully installed selenium-3.141.0\n"
     ]
    }
   ],
   "source": [
    "!pip install selenium"
   ]
  },
  {
   "cell_type": "code",
   "execution_count": 331,
   "metadata": {},
   "outputs": [],
   "source": [
    "# def automate_get_info(endpoint):\n",
    "#     lst = []\n",
    "#     data = []\n",
    "#     start = 9983\n",
    "#     end = 11000\n",
    "#     i = 0\n",
    "#     while len(data) <= 620:\n",
    "#         d = get_info(endpoint, start, end)[0]\n",
    "#         for item in d:\n",
    "#             lst.append(item[\"id\"]) \n",
    "#         data.extend(d)\n",
    "#         start = max(lst)\n",
    "#         end = start*50\n",
    "#         i += 1\n",
    "#     return data, lst\n",
    "        \n",
    "        \n",
    "       "
   ]
  },
  {
   "cell_type": "code",
   "execution_count": 332,
   "metadata": {},
   "outputs": [],
   "source": [
    "# auto_data = automate_get_info(\"games\")"
   ]
  },
  {
   "cell_type": "code",
   "execution_count": 368,
   "metadata": {},
   "outputs": [],
   "source": [
    "our_data_original.extend(explore5[0])\n",
    "our_data_original.extend(explore6[0])\n",
    "our_data_original.extend(explore7[0])\n",
    "our_data_original.extend(explore8[0])\n",
    "our_data_original.extend(explore9[0])\n",
    "our_data_original.extend(explore10[0])\n",
    "our_data_original.extend(explore11[0])\n",
    "our_data_original.extend(explore12[0])\n",
    "our_data_original.extend(explore13[0])\n",
    "our_data_original.extend(explore14[0])\n",
    "our_data_original.extend(explore15[0])\n",
    "our_data_original.extend(explore16[0])\n",
    "our_data_original.extend(explore17[0])\n",
    "our_data_original.extend(explore18[0])\n",
    "our_data_original.extend(explore19[0])\n",
    "our_data_original.extend(explore20[0])\n"
   ]
  },
  {
   "cell_type": "code",
   "execution_count": 34,
   "metadata": {},
   "outputs": [],
   "source": [
    "def save_data(file_to_save_to, data):\n",
    "        \"\"\"takes in a filename to save to\"\"\"\n",
    "        with open(file_to_save_to, 'w') as outfile:\n",
    "            json.dump(data, outfile)"
   ]
  },
  {
   "cell_type": "code",
   "execution_count": 384,
   "metadata": {},
   "outputs": [],
   "source": [
    "# save_data(\"751_games.json\", our_data_original)"
   ]
  },
  {
   "cell_type": "code",
   "execution_count": 387,
   "metadata": {},
   "outputs": [],
   "source": [
    "rating = []\n",
    "\n",
    "for data in our_data_original:\n",
    "    if 'age_ratings' in data.keys():\n",
    "        rating.append(data['age_ratings'])"
   ]
  },
  {
   "cell_type": "code",
   "execution_count": 388,
   "metadata": {},
   "outputs": [
    {
     "data": {
      "text/plain": [
       "492"
      ]
     },
     "execution_count": 388,
     "metadata": {},
     "output_type": "execute_result"
    }
   ],
   "source": [
    "len(rating)"
   ]
  },
  {
   "cell_type": "code",
   "execution_count": 389,
   "metadata": {},
   "outputs": [],
   "source": [
    "popularity = []\n",
    "\n",
    "for data in our_data_original:\n",
    "    if 'popularity' in data.keys():\n",
    "        popularity.append(data['popularity'])"
   ]
  },
  {
   "cell_type": "code",
   "execution_count": 390,
   "metadata": {},
   "outputs": [
    {
     "data": {
      "text/plain": [
       "750"
      ]
     },
     "execution_count": 390,
     "metadata": {},
     "output_type": "execute_result"
    }
   ],
   "source": [
    "len(popularity)"
   ]
  },
  {
   "cell_type": "code",
   "execution_count": 393,
   "metadata": {},
   "outputs": [],
   "source": [
    "genre = []\n",
    "\n",
    "for data in our_data_original:\n",
    "    if 'genres' in data.keys():\n",
    "        genre.append(data['genres'])"
   ]
  },
  {
   "cell_type": "code",
   "execution_count": 394,
   "metadata": {},
   "outputs": [
    {
     "data": {
      "text/plain": [
       "740"
      ]
     },
     "execution_count": 394,
     "metadata": {},
     "output_type": "execute_result"
    }
   ],
   "source": [
    "len(genre)"
   ]
  },
  {
   "cell_type": "code",
   "execution_count": 395,
   "metadata": {},
   "outputs": [],
   "source": [
    "def get_reviews(appid, start_offset=0, fil='updated', review_type='all'):\n",
    "    url = 'https://store.steampowered.com'\n",
    "    reviews = '/appreviews/'\n",
    "    p = {'day_range':'9223372036854775807', \n",
    "         'start_offset':start_offset, \n",
    "         'language':'english', \n",
    "         'filter':fil, \n",
    "         'review_type':review_type,\n",
    "         'purchase_type':'all'}\n",
    "    r = requests.get(url+reviews+str(appid)+'?json=1?', params=p).json()\n",
    "    return r"
   ]
  },
  {
   "cell_type": "code",
   "execution_count": 396,
   "metadata": {},
   "outputs": [],
   "source": [
    "def get_review_content(df):\n",
    "    return [df['reviews'][i]['review'] for i in range(len(df['reviews']))]"
   ]
  },
  {
   "cell_type": "code",
   "execution_count": 7,
   "metadata": {},
   "outputs": [],
   "source": [
    "def get_steamlist():\n",
    "    return requests.get('http://api.steampowered.com/ISteamApps/GetAppList/v0002/').json()\n",
    "\n",
    "games_df = pd.DataFrame(get_steamlist()['applist'][\"apps\"])\n",
    "games = get_steamlist()['applist'][\"apps\"]"
   ]
  },
  {
   "cell_type": "code",
   "execution_count": 111,
   "metadata": {},
   "outputs": [],
   "source": [
    "save_data(games, \"games.json\")"
   ]
  },
  {
   "cell_type": "code",
   "execution_count": 426,
   "metadata": {
    "scrolled": true
   },
   "outputs": [
    {
     "data": {
      "text/plain": [
       "int"
      ]
     },
     "execution_count": 426,
     "metadata": {},
     "output_type": "execute_result"
    }
   ],
   "source": [
    "type(games[0][\"appid\"])"
   ]
  },
  {
   "cell_type": "code",
   "execution_count": 8,
   "metadata": {},
   "outputs": [
    {
     "data": {
      "text/plain": [
       "76587"
      ]
     },
     "execution_count": 8,
     "metadata": {},
     "output_type": "execute_result"
    }
   ],
   "source": [
    "len(games)"
   ]
  },
  {
   "cell_type": "code",
   "execution_count": 9,
   "metadata": {},
   "outputs": [],
   "source": [
    "def get_appid(name, games):\n",
    "    for i in range(len(games['name'])):\n",
    "        if games['name'][i].title() == name.title():\n",
    "            return games['appid'][i]\n",
    "    return \"Did not find\"\n",
    "\n",
    "def get_game_info(appid):\n",
    "    url = 'https://store.steampowered.com'\n",
    "    ids = str(appid)\n",
    "    r = requests.get(url+'/api/appdetails?appids='+ids).json()\n",
    "    return r"
   ]
  },
  {
   "cell_type": "code",
   "execution_count": 20,
   "metadata": {
    "scrolled": true
   },
   "outputs": [
    {
     "data": {
      "text/plain": [
       "{'1009711': {'success': True,\n",
       "  'data': {'type': 'dlc',\n",
       "   'name': 'Arcade Spirits - Artbook',\n",
       "   'steam_appid': 1009711,\n",
       "   'required_age': 0,\n",
       "   'is_free': False,\n",
       "   'controller_support': 'full',\n",
       "   'detailed_description': \"The Aesthetics of Arcade Spirits is a 54 page art book containing early character sketches, full-color high quality art, background information and notes on the game's development. It includes pre-production and production art of characters, backgrounds, game pixels, and more.<br />\\r\\n<br />\\r\\nArt by Molly Nemecek, Taylor Rose, and Justin Baldwin.\",\n",
       "   'about_the_game': \"The Aesthetics of Arcade Spirits is a 54 page art book containing early character sketches, full-color high quality art, background information and notes on the game's development. It includes pre-production and production art of characters, backgrounds, game pixels, and more.<br />\\r\\n<br />\\r\\nArt by Molly Nemecek, Taylor Rose, and Justin Baldwin.\",\n",
       "   'short_description': 'An art book packed with character and background art, game pixels, and more.',\n",
       "   'fullgame': {'appid': '910630', 'name': 'Arcade Spirits'},\n",
       "   'supported_languages': 'English',\n",
       "   'header_image': 'https://steamcdn-a.akamaihd.net/steam/apps/1009711/header.jpg?t=1549993646',\n",
       "   'website': 'http://www.arcadespirits.com',\n",
       "   'pc_requirements': {'minimum': '<strong>最低:</strong><br><ul class=\"bb_ul\"><li><strong>OS:</strong> Windows XP<br></li><li><strong>プロセッサー:</strong> 1 GHz Intel or AMD Processor<br></li><li><strong>メモリー:</strong> 1 MB RAM<br></li><li><strong>グラフィック:</strong> DirectX or OpenGL compatible card<br></li><li><strong>DirectX:</strong> Version 9.0c<br></li><li><strong>ストレージ:</strong> 100 MB 利用可能</li></ul>',\n",
       "    'recommended': '<strong>推奨:</strong><br><ul class=\"bb_ul\"><li><strong>OS:</strong> Windows Vista or above</li></ul>'},\n",
       "   'mac_requirements': {'minimum': '<strong>最低:</strong><br><ul class=\"bb_ul\"><li><strong>OS:</strong> Mac OS X 10.6 or later<br></li><li><strong>プロセッサー:</strong> 1 GhzCore 2 Duo<br></li><li><strong>メモリー:</strong> 1 GB RAM<br></li><li><strong>グラフィック:</strong> DirectX or OpenGL compatible card<br></li><li><strong>ストレージ:</strong> 100 MB 利用可能</li></ul>',\n",
       "    'recommended': '<strong>推奨:</strong><br><ul class=\"bb_ul\"><li><strong>OS:</strong> Mac OS X 10.7 or later</li></ul>'},\n",
       "   'linux_requirements': {'minimum': '<strong>最低:</strong><br><ul class=\"bb_ul\"><li><strong>プロセッサー:</strong> 1 GHz Intel or AMD Processor<br></li><li><strong>メモリー:</strong> 1 GB RAM<br></li><li><strong>ストレージ:</strong> 100 MB 利用可能</li></ul>'},\n",
       "   'legal_notice': '©Fiction Factory Games. Published by PQube Ltd. All rights reserved.',\n",
       "   'developers': ['Fiction Factory Games'],\n",
       "   'publishers': ['PQube Limited'],\n",
       "   'price_overview': {'currency': 'USD',\n",
       "    'initial': 299,\n",
       "    'final': 299,\n",
       "    'discount_percent': 0,\n",
       "    'initial_formatted': '',\n",
       "    'final_formatted': '$2.99'},\n",
       "   'packages': [334107],\n",
       "   'package_groups': [{'name': 'default',\n",
       "     'title': 'Buy Arcade Spirits - Artbook',\n",
       "     'description': '',\n",
       "     'selection_text': 'Select a purchase option',\n",
       "     'save_text': '',\n",
       "     'display_type': 0,\n",
       "     'is_recurring_subscription': 'false',\n",
       "     'subs': [{'packageid': 334107,\n",
       "       'percent_savings_text': '',\n",
       "       'percent_savings': 0,\n",
       "       'option_text': 'Arcade Spirits - Artbook - $2.99',\n",
       "       'option_description': '',\n",
       "       'can_get_free_license': '0',\n",
       "       'is_free_license': False,\n",
       "       'price_in_cents_with_discount': 299}]}],\n",
       "   'platforms': {'windows': True, 'mac': True, 'linux': True},\n",
       "   'categories': [{'id': 2, 'description': 'Single-player'},\n",
       "    {'id': 21, 'description': 'Downloadable Content'},\n",
       "    {'id': 28, 'description': 'Full controller support'}],\n",
       "   'genres': [{'id': '23', 'description': 'Indie'}],\n",
       "   'screenshots': [{'id': 0,\n",
       "     'path_thumbnail': 'https://steamcdn-a.akamaihd.net/steam/apps/1009711/ss_b52c7fc8ad97a9b7d7b3a10b161324c81d21438d.600x338.jpg?t=1549993646',\n",
       "     'path_full': 'https://steamcdn-a.akamaihd.net/steam/apps/1009711/ss_b52c7fc8ad97a9b7d7b3a10b161324c81d21438d.1920x1080.jpg?t=1549993646'},\n",
       "    {'id': 1,\n",
       "     'path_thumbnail': 'https://steamcdn-a.akamaihd.net/steam/apps/1009711/ss_23efca2dda0ff1af28dc9c0281fddd7d44e75055.600x338.jpg?t=1549993646',\n",
       "     'path_full': 'https://steamcdn-a.akamaihd.net/steam/apps/1009711/ss_23efca2dda0ff1af28dc9c0281fddd7d44e75055.1920x1080.jpg?t=1549993646'},\n",
       "    {'id': 2,\n",
       "     'path_thumbnail': 'https://steamcdn-a.akamaihd.net/steam/apps/1009711/ss_434e22fe67a3e459c0cabd57044a19c076a7667a.600x338.jpg?t=1549993646',\n",
       "     'path_full': 'https://steamcdn-a.akamaihd.net/steam/apps/1009711/ss_434e22fe67a3e459c0cabd57044a19c076a7667a.1920x1080.jpg?t=1549993646'}],\n",
       "   'achievements': {'total': 0},\n",
       "   'release_date': {'coming_soon': False, 'date': 'Feb 12, 2019'},\n",
       "   'support_info': {'url': '', 'email': 'support@pqube.co.uk'},\n",
       "   'background': 'https://steamcdn-a.akamaihd.net/steam/apps/1009711/page_bg_generated_v6b.jpg?t=1549993646',\n",
       "   'content_descriptors': {'ids': [], 'notes': None}}}}"
      ]
     },
     "execution_count": 20,
     "metadata": {},
     "output_type": "execute_result"
    }
   ],
   "source": [
    "data_from_steam_2[199]"
   ]
  },
  {
   "cell_type": "code",
   "execution_count": 110,
   "metadata": {},
   "outputs": [],
   "source": [
    "# we ended last on Tuesday on 15,000\n",
    "\n",
    "def retrieve_steam_data(start, end):\n",
    "    data_from_steam_ = []\n",
    "    for num, game in enumerate(games[start: end]):\n",
    "        if game[\"appid\"] >= 10:\n",
    "            data_from_steam_.append(get_game_info(game[\"appid\"]))\n",
    "        if num % 100 == 0:\n",
    "            t = np.random.choice([1,1.1,1.2,1.3,1.4,1.5])\n",
    "            print(num, t)\n",
    "            time.sleep(t)\n",
    "    return data_from_steam_ \n",
    "    \n",
    "    "
   ]
  },
  {
   "cell_type": "code",
   "execution_count": 35,
   "metadata": {},
   "outputs": [],
   "source": [
    "def save_data(data, file_to_save_to):\n",
    "        \"\"\"takes in a filename to save to\"\"\"\n",
    "        with open(file_to_save_to, 'w') as outfile:\n",
    "            json.dump(data, outfile)"
   ]
  },
  {
   "cell_type": "code",
   "execution_count": 37,
   "metadata": {},
   "outputs": [],
   "source": [
    "def open_save_data(file_to_open):\n",
    "        \"\"\"takes in a filename to open\n",
    "           return \"\"\"\n",
    "        with open(file_to_open) as datajson:\n",
    "            new_data =json.load(datajson)\n",
    "        return new_data"
   ]
  },
  {
   "cell_type": "markdown",
   "metadata": {},
   "source": [
    "# Open Json Files"
   ]
  },
  {
   "cell_type": "code",
   "execution_count": 402,
   "metadata": {},
   "outputs": [],
   "source": [
    "k10 = open_save_data(\"10K_data.json\")\n",
    "k15 = open_save_data(\"15K_data.json\")\n",
    "k20 = open_save_data(\"test_20k.json\")\n",
    "k30 = open_save_data(\"30K_data.json\")"
   ]
  },
  {
   "cell_type": "code",
   "execution_count": 403,
   "metadata": {},
   "outputs": [],
   "source": [
    "all_30K = k10+k15+k20+k30"
   ]
  },
  {
   "cell_type": "code",
   "execution_count": 50,
   "metadata": {},
   "outputs": [],
   "source": [
    "# save_data(data_from_steam_3, \"15K_data.json\")"
   ]
  },
  {
   "cell_type": "code",
   "execution_count": 404,
   "metadata": {},
   "outputs": [
    {
     "data": {
      "text/plain": [
       "30000"
      ]
     },
     "execution_count": 404,
     "metadata": {},
     "output_type": "execute_result"
    }
   ],
   "source": [
    "len(all_30K)"
   ]
  },
  {
   "cell_type": "code",
   "execution_count": 51,
   "metadata": {},
   "outputs": [],
   "source": [
    "# test_15K = open_save_data(\"15K_data.json\")"
   ]
  },
  {
   "cell_type": "code",
   "execution_count": 112,
   "metadata": {},
   "outputs": [],
   "source": [
    "combo = test_10K + test_15K"
   ]
  },
  {
   "cell_type": "code",
   "execution_count": 56,
   "metadata": {},
   "outputs": [],
   "source": [
    "# save_data(combo, \"15K_comno.json\")"
   ]
  },
  {
   "cell_type": "markdown",
   "metadata": {},
   "source": [
    "# Initial Clean"
   ]
  },
  {
   "cell_type": "code",
   "execution_count": 262,
   "metadata": {},
   "outputs": [],
   "source": [
    "def del_unwanted(dic, unwanted_lst):\n",
    "    dic_copy = copy.deepcopy(dic)\n",
    "    for key in unwanted_lst:\n",
    "        if key in dic_copy:\n",
    "            del dic_copy[key]\n",
    "    return dic_copy\n",
    "\n",
    "def clean_non_id_data(games_list, start, end):\n",
    "    data_dic_lst = []\n",
    "    data_f = copy.deepcopy(games_list)\n",
    "    for game in data_f[start:end]:\n",
    "        if type(game) == dict:\n",
    "            for key, val in game.items():\n",
    "                if \"success\" in val:\n",
    "                        del val[\"success\"]\n",
    "                if val != {}:\n",
    "                    new_val = del_unwanted(val[\"data\"], [\"header_image\", \"website\", \"packages\", \"package_groups\",\n",
    "                                                        \"screenshots\", \"movies\", \"support_info\", \"background\",\n",
    "                                                        \"content_descriptors\", \"controller_support\", \"drm_notice\",\n",
    "                                                        \"ext_user_account_notice\", \"detailed_description\", \n",
    "                                                        \"short_description\", \"legal_notice\", \"linux_requirements\",\n",
    "                                                        \"mac_requirements\", \"fullgame\", \"publishers\", \"demos\",\n",
    "                                                        \"pc_requirements\", \"release_date\"])\n",
    "            \n",
    "                    data_dic_lst.extend([new_val])\n",
    "    return data_dic_lst"
   ]
  },
  {
   "cell_type": "code",
   "execution_count": 396,
   "metadata": {},
   "outputs": [
    {
     "data": {
      "text/plain": [
       "4521"
      ]
     },
     "execution_count": 396,
     "metadata": {},
     "output_type": "execute_result"
    }
   ],
   "source": [
    "cleaned_15k_2 = clean_non_id_data(combo,0, len(combo))\n",
    "len(cleaned_15k_2)"
   ]
  },
  {
   "cell_type": "markdown",
   "metadata": {},
   "source": [
    "## Removing Columns we don't need"
   ]
  },
  {
   "cell_type": "code",
   "execution_count": 405,
   "metadata": {},
   "outputs": [],
   "source": [
    "cleaned_30K = clean_non_id_data(combo,0, len(all_30K))"
   ]
  },
  {
   "cell_type": "markdown",
   "metadata": {},
   "source": [
    "## More cleaning organizing columns"
   ]
  },
  {
   "cell_type": "code",
   "execution_count": 397,
   "metadata": {},
   "outputs": [],
   "source": [
    "def clean_data(dirty_dic):\n",
    "    clean_money(dirty_dic, True, False)\n",
    "    clean_dev(dirty_dic, False)\n",
    "    convert_to_1_0(dirty_dic, False)\n",
    "    date_reformatting(dirty_dic, False)\n",
    "    dlc_reformatting(dirty_dic, False)\n",
    "    get_clean_dummies(dirty_dic, \"categories\", False)\n",
    "    get_clean_dummies(dirty_dic, \"genres\", False)\n",
    "    get_total_from_dic(dirty_dic, \"recommendations\", False)\n",
    "    get_total_from_dic(dirty_dic, \"achievements\", False)\n",
    "    get_platform_dummies(dirty_dic, False)\n",
    "    get_metas_from_dic(dirty_dic, False)\n",
    "    return dirty_dic"
   ]
  },
  {
   "cell_type": "code",
   "execution_count": 398,
   "metadata": {},
   "outputs": [],
   "source": [
    "df_clean = pd.DataFrame(clean_data(cleaned_15k_2))"
   ]
  },
  {
   "cell_type": "code",
   "execution_count": 399,
   "metadata": {},
   "outputs": [
    {
     "data": {
      "text/plain": [
       "(4521, 39)"
      ]
     },
     "execution_count": 399,
     "metadata": {},
     "output_type": "execute_result"
    }
   ],
   "source": [
    "df_clean.shape"
   ]
  },
  {
   "cell_type": "code",
   "execution_count": 424,
   "metadata": {},
   "outputs": [
    {
     "name": "stdout",
     "output_type": "stream",
     "text": [
      "French\n",
      " German\n",
      " English\n"
     ]
    }
   ],
   "source": [
    "for word in (df_clean.supported_languages[6].split(\",\")):\n",
    "    if \"<\" in word:\n",
    "        print(word[:word.index(\"<\")])"
   ]
  },
  {
   "cell_type": "code",
   "execution_count": 427,
   "metadata": {
    "scrolled": true
   },
   "outputs": [],
   "source": [
    "descriptions = [\"Single-player\", \"Multi-player\", 'Online Multi-Player', 'Local Multi-Player', 'Co-op', \n",
    "                'Online Co-op', 'Local Co-op', 'Shared/Split Screen', 'Cross-Platform Multiplayer', 'Action',\n",
    "                'Adventure', 'Indie', 'Casual', 'Massively Multiplayer', 'Racing', 'RPG', \"Simulation\", \n",
    "               \"Strategy\", \"Sports\", \"Free to Play\", \"Early Access\"]\n",
    "\n",
    "platforms_lst = [\"windows\", \"mac\", \"linux\"]\n",
    "\n",
    "months = {\"Jan\":1, \"Feb\":2, \"Mar\":3, \"Apr\":4, \"May\":5, \"Jun\":6, \"Jul\":7, \"Aug\":8, \"Sep\":9, \n",
    "          \"Oct\":10, \"Nov\":11, \"Dec\":12}\n",
    "\n",
    "def get_clean_dummies(clean_dic, desc_key, keep=True):\n",
    "    if keep:\n",
    "        cleaned = copy.deepcopy(clean_dic)\n",
    "    else:\n",
    "        cleaned = clean_dic\n",
    "    for data in cleaned:\n",
    "        for key in descriptions:\n",
    "            data[key] = 0\n",
    "        if desc_key in data:\n",
    "            for cat in data[desc_key]:\n",
    "                if cat[\"description\"] in descriptions:\n",
    "                    data[cat[\"description\"]] = 1\n",
    "            del data[desc_key]\n",
    "    return cleaned\n",
    "\n",
    "def get_platform_dummies(clean_dic, keep=True):\n",
    "    if keep:\n",
    "        cleaned = copy.deepcopy(clean_dic)\n",
    "    else:\n",
    "        cleaned = clean_dic\n",
    "    for data in cleaned: \n",
    "        if \"platforms\" in data:\n",
    "            for key in platforms_lst:\n",
    "                data[key] = 0 \n",
    "                if key in data[\"platforms\"]:\n",
    "                    data[key] = int(data[\"platforms\"][key])\n",
    "        else:\n",
    "            for key in platforms_lst:\n",
    "                data[key] = 0 \n",
    "        del data[\"platforms\"]\n",
    "    return cleaned\n",
    "\n",
    "def get_total_from_dic(clean_dic, column, keep=True):\n",
    "    if keep:\n",
    "        cleaned = copy.deepcopy(clean_dic)\n",
    "    else:\n",
    "        cleaned = clean_dic\n",
    "    for data in cleaned:\n",
    "        if column in data:\n",
    "            data[column] = data[column][\"total\"]\n",
    "        else:\n",
    "            data[column] = 0\n",
    "    return cleaned\n",
    "\n",
    "def get_metas_from_dic(clean_dic, keep=True):\n",
    "    if keep:\n",
    "        cleaned = copy.deepcopy(clean_dic)\n",
    "    else:\n",
    "        cleaned = clean_dic\n",
    "    for data in cleaned:\n",
    "        if \"metacritic\" in data:\n",
    "            data[\"metacritic\"] = data[\"metacritic\"][\"score\"]\n",
    "        else:\n",
    "            data[\"metacritic\"] = 0\n",
    "    return cleaned\n",
    "\n",
    "def clean_dev(clean_dic, keep=True):\n",
    "    if keep:\n",
    "        cleaned = copy.deepcopy(clean_dic)\n",
    "    else:\n",
    "        cleaned = clean_dic\n",
    "    cleaned = copy.deepcopy(clean_dic)\n",
    "    for data in cleaned:\n",
    "        if \"developers\" in data:\n",
    "            data[\"developers\"] = \", \".join(data[\"developers\"])\n",
    "        else:\n",
    "            data[\"developers\"] = \"\"\n",
    "    return cleaned\n",
    "\n",
    "def dlc_reformatting(clean_dic, keep=True):\n",
    "    if keep:\n",
    "        cleaned = copy.deepcopy(clean_dic)\n",
    "    else:\n",
    "        cleaned = clean_dic\n",
    "    for data in cleaned:\n",
    "        if \"dlc\" in data:\n",
    "            data[\"dlc\"] = len(data[\"dlc\"])\n",
    "        else:\n",
    "            data[\"dlc\"] = 0\n",
    "    return cleaned\n",
    "\n",
    "def date_reformatting(clean_dic, keep=True):\n",
    "    if keep:\n",
    "        cleaned = copy.deepcopy(clean_dic)\n",
    "    else:\n",
    "        cleaned = clean_dic\n",
    "    for data in cleaned:\n",
    "        if \"release_date\" in data:\n",
    "            if data[\"release_date\"][\"date\"][:3] in months:\n",
    "                data[\"release_date\"] = months[data[\"release_date\"][\"date\"][:3]]\n",
    "            else:\n",
    "                data[\"release_date\"] = 0\n",
    "        else:\n",
    "                data[\"release_date\"] = 0\n",
    "    return cleaned\n",
    "\n",
    "def convert_to_1_0(clean_dic, keep=True):\n",
    "    if keep:\n",
    "        cleaned = copy.deepcopy(clean_dic)\n",
    "    else:\n",
    "        cleaned = clean_dic\n",
    "    for data in cleaned:\n",
    "        if \"is_free\" in data:\n",
    "            data[\"is_free\"] = int(data[\"is_free\"])\n",
    "        else:\n",
    "            data[\"is_free\"] = 0\n",
    "    return cleaned\n",
    "\n",
    "def clean_money(clean_dic, nans_to_zero=False, keep=True):\n",
    "    if keep:\n",
    "        cleaned = copy.deepcopy(clean_dic)\n",
    "    else:\n",
    "        cleaned = clean_dic\n",
    "    for data in cleaned:\n",
    "        if \"price_overview\" in data:\n",
    "            data[\"price_overview\"] = round(data[\"price_overview\"][\"final\"]*.01, 2)\n",
    "        else:\n",
    "            if nans_to_zero:\n",
    "                data[\"price_overview\"] = 0\n",
    "    return cleaned\n",
    "\n",
    "def clean_language(clean_dic, keep=True):\n",
    "    if keep:\n",
    "        cleaned = copy.deepcopy(clean_dic)\n",
    "    else:\n",
    "        cleaned = clean_dic\n",
    "    for data in cleaned:\n",
    "        if \"supported_languages\" in data:\n",
    "            data[\"num_supported_languages\"] = len(data[\"supported_languages\"].split(\",\"))\n",
    "            del data[\"supported_languages\"]\n",
    "        else:\n",
    "             data[\"num_supported_languages\"] = 1\n",
    "        \n",
    "    return cleaned\n"
   ]
  },
  {
   "cell_type": "code",
   "execution_count": 171,
   "metadata": {},
   "outputs": [],
   "source": [
    "test_cats1 = get_clean_dummies(test_ach, \"categories\")"
   ]
  },
  {
   "cell_type": "code",
   "execution_count": 177,
   "metadata": {},
   "outputs": [],
   "source": [
    "test_gens = get_clean_dummies(test_cats1, \"genres\")"
   ]
  },
  {
   "cell_type": "code",
   "execution_count": 207,
   "metadata": {},
   "outputs": [],
   "source": [
    "test_rec = get_total_from_dic(test_gens, \"recommendations\")"
   ]
  },
  {
   "cell_type": "code",
   "execution_count": 226,
   "metadata": {},
   "outputs": [],
   "source": [
    "test_meta = get_metas_from_dic(test_rec)"
   ]
  },
  {
   "cell_type": "code",
   "execution_count": 352,
   "metadata": {},
   "outputs": [],
   "source": [
    "test_plat = get_platform_dummies(test_meta)"
   ]
  },
  {
   "cell_type": "code",
   "execution_count": 282,
   "metadata": {},
   "outputs": [],
   "source": [
    "test_dev = clean_dev(test_plat)"
   ]
  },
  {
   "cell_type": "code",
   "execution_count": 292,
   "metadata": {},
   "outputs": [],
   "source": [
    "test_dlc = dlc_reformatting(test_dev)"
   ]
  },
  {
   "cell_type": "code",
   "execution_count": 320,
   "metadata": {},
   "outputs": [],
   "source": [
    "test_date = date_reformatting(test_dlc)"
   ]
  },
  {
   "cell_type": "code",
   "execution_count": 332,
   "metadata": {},
   "outputs": [],
   "source": [
    "test_is_free = convert_to_1_0(test_date)"
   ]
  },
  {
   "cell_type": "code",
   "execution_count": 380,
   "metadata": {},
   "outputs": [],
   "source": [
    "test_price1 = clean_money(test_is_free)"
   ]
  },
  {
   "cell_type": "code",
   "execution_count": 381,
   "metadata": {},
   "outputs": [],
   "source": [
    "test_price2 = clean_money(test_is_free, True)"
   ]
  },
  {
   "cell_type": "code",
   "execution_count": 426,
   "metadata": {},
   "outputs": [
    {
     "ename": "KeyError",
     "evalue": "'supported_languages'",
     "output_type": "error",
     "traceback": [
      "\u001b[0;31m---------------------------------------------------------------------------\u001b[0m",
      "\u001b[0;31mKeyError\u001b[0m                                  Traceback (most recent call last)",
      "\u001b[0;32m<ipython-input-426-8edd193852dc>\u001b[0m in \u001b[0;36m<module>\u001b[0;34m\u001b[0m\n\u001b[0;32m----> 1\u001b[0;31m \u001b[0mtest_lang\u001b[0m \u001b[0;34m=\u001b[0m \u001b[0mclean_language\u001b[0m\u001b[0;34m(\u001b[0m\u001b[0mtest_price2\u001b[0m\u001b[0;34m)\u001b[0m\u001b[0;34m\u001b[0m\u001b[0;34m\u001b[0m\u001b[0m\n\u001b[0m",
      "\u001b[0;32m<ipython-input-425-b210eaadc975>\u001b[0m in \u001b[0;36mclean_language\u001b[0;34m(clean_dic, keep)\u001b[0m\n\u001b[1;32m    140\u001b[0m         \u001b[0;32melse\u001b[0m\u001b[0;34m:\u001b[0m\u001b[0;34m\u001b[0m\u001b[0;34m\u001b[0m\u001b[0m\n\u001b[1;32m    141\u001b[0m              \u001b[0mdata\u001b[0m\u001b[0;34m[\u001b[0m\u001b[0;34m\"num_supported_languages\"\u001b[0m\u001b[0;34m]\u001b[0m \u001b[0;34m=\u001b[0m \u001b[0;36m1\u001b[0m\u001b[0;34m\u001b[0m\u001b[0;34m\u001b[0m\u001b[0m\n\u001b[0;32m--> 142\u001b[0;31m         \u001b[0;32mdel\u001b[0m \u001b[0mdata\u001b[0m\u001b[0;34m[\u001b[0m\u001b[0;34m\"supported_languages\"\u001b[0m\u001b[0;34m]\u001b[0m\u001b[0;34m\u001b[0m\u001b[0;34m\u001b[0m\u001b[0m\n\u001b[0m\u001b[1;32m    143\u001b[0m     \u001b[0;32mreturn\u001b[0m \u001b[0mcleaned\u001b[0m\u001b[0;34m\u001b[0m\u001b[0;34m\u001b[0m\u001b[0m\n",
      "\u001b[0;31mKeyError\u001b[0m: 'supported_languages'"
     ]
    }
   ],
   "source": [
    "test_lang = clean_language(test_price2)"
   ]
  },
  {
   "cell_type": "code",
   "execution_count": 383,
   "metadata": {},
   "outputs": [
    {
     "data": {
      "text/plain": [
       "0"
      ]
     },
     "execution_count": 383,
     "metadata": {},
     "output_type": "execute_result"
    }
   ],
   "source": [
    "test_price2[0][\"price_overview\"]"
   ]
  },
  {
   "cell_type": "code",
   "execution_count": 384,
   "metadata": {},
   "outputs": [],
   "source": [
    "df_test_almost_clean = pd.DataFrame(test_price1)\n",
    "df_test_almost_clean2 = pd.DataFrame(test_price2)"
   ]
  },
  {
   "cell_type": "code",
   "execution_count": 393,
   "metadata": {},
   "outputs": [
    {
     "data": {
      "text/plain": [
       "(4521, 42)"
      ]
     },
     "execution_count": 393,
     "metadata": {},
     "output_type": "execute_result"
    }
   ],
   "source": [
    "df_test_almost_clean.shape"
   ]
  },
  {
   "cell_type": "code",
   "execution_count": 330,
   "metadata": {},
   "outputs": [
    {
     "data": {
      "text/plain": [
       "1"
      ]
     },
     "execution_count": 330,
     "metadata": {},
     "output_type": "execute_result"
    }
   ],
   "source": [
    "int(True)"
   ]
  },
  {
   "cell_type": "code",
   "execution_count": 343,
   "metadata": {},
   "outputs": [
    {
     "data": {
      "text/plain": [
       "False"
      ]
     },
     "execution_count": 343,
     "metadata": {},
     "output_type": "execute_result"
    }
   ],
   "source": [
    "test_dlc[66][\"is_free\"]"
   ]
  },
  {
   "cell_type": "code",
   "execution_count": 283,
   "metadata": {},
   "outputs": [
    {
     "data": {
      "text/plain": [
       "'GRASSHOPPER MANUFACTURE INC., SUPERTRICK  GAMES,Inc.'"
      ]
     },
     "execution_count": 283,
     "metadata": {},
     "output_type": "execute_result"
    }
   ],
   "source": [
    "test_dev[23][\"developers\"]"
   ]
  },
  {
   "cell_type": "code",
   "execution_count": 277,
   "metadata": {},
   "outputs": [
    {
     "data": {
      "text/plain": [
       "['GRASSHOPPER MANUFACTURE INC.', 'SUPERTRICK  GAMES,Inc.']"
      ]
     },
     "execution_count": 277,
     "metadata": {},
     "output_type": "execute_result"
    }
   ],
   "source": [
    "test_meta[23][\"developers\"]"
   ]
  },
  {
   "cell_type": "code",
   "execution_count": 354,
   "metadata": {},
   "outputs": [
    {
     "data": {
      "text/plain": [
       "True"
      ]
     },
     "execution_count": 354,
     "metadata": {},
     "output_type": "execute_result"
    }
   ],
   "source": [
    "test_meta[2][\"platforms\"][\"windows\"]"
   ]
  },
  {
   "cell_type": "code",
   "execution_count": 356,
   "metadata": {},
   "outputs": [
    {
     "data": {
      "text/plain": [
       "0"
      ]
     },
     "execution_count": 356,
     "metadata": {},
     "output_type": "execute_result"
    }
   ],
   "source": [
    "test_plat[2][\"linux\"]"
   ]
  },
  {
   "cell_type": "code",
   "execution_count": 337,
   "metadata": {},
   "outputs": [
    {
     "ename": "KeyError",
     "evalue": "'mac'",
     "output_type": "error",
     "traceback": [
      "\u001b[0;31m---------------------------------------------------------------------------\u001b[0m",
      "\u001b[0;31mKeyError\u001b[0m                                  Traceback (most recent call last)",
      "\u001b[0;32m<ipython-input-337-2196dc9d8214>\u001b[0m in \u001b[0;36m<module>\u001b[0;34m\u001b[0m\n\u001b[0;32m----> 1\u001b[0;31m \u001b[0mtest_rec\u001b[0m\u001b[0;34m[\u001b[0m\u001b[0;36m2\u001b[0m \u001b[0;34m]\u001b[0m\u001b[0;34m[\u001b[0m\u001b[0;34m\"mac\"\u001b[0m\u001b[0;34m]\u001b[0m\u001b[0;34m\u001b[0m\u001b[0;34m\u001b[0m\u001b[0m\n\u001b[0m",
      "\u001b[0;31mKeyError\u001b[0m: 'mac'"
     ]
    }
   ],
   "source": [
    "test_rec[2][\"mac\"]"
   ]
  },
  {
   "cell_type": "code",
   "execution_count": 211,
   "metadata": {},
   "outputs": [
    {
     "data": {
      "text/plain": [
       "'Manna for our Malices'"
      ]
     },
     "execution_count": 211,
     "metadata": {},
     "output_type": "execute_result"
    }
   ],
   "source": [
    "test_gens[6][\"name\"]"
   ]
  },
  {
   "cell_type": "code",
   "execution_count": 287,
   "metadata": {},
   "outputs": [
    {
     "data": {
      "text/plain": [
       "(4521, 42)"
      ]
     },
     "execution_count": 287,
     "metadata": {},
     "output_type": "execute_result"
    }
   ],
   "source": [
    "pd.DataFrame(test_dev).shape"
   ]
  },
  {
   "cell_type": "code",
   "execution_count": 185,
   "metadata": {},
   "outputs": [
    {
     "data": {
      "text/plain": [
       "[{'id': '4', 'description': 'Casual'}, {'id': '23', 'description': 'Indie'}]"
      ]
     },
     "execution_count": 185,
     "metadata": {},
     "output_type": "execute_result"
    }
   ],
   "source": [
    "test_cats[1][\"genres\"]"
   ]
  },
  {
   "cell_type": "code",
   "execution_count": 156,
   "metadata": {},
   "outputs": [
    {
     "data": {
      "text/plain": [
       "29"
      ]
     },
     "execution_count": 156,
     "metadata": {},
     "output_type": "execute_result"
    }
   ],
   "source": [
    "len(pd.DataFrame(test_cats).columns)"
   ]
  },
  {
   "cell_type": "code",
   "execution_count": 167,
   "metadata": {},
   "outputs": [
    {
     "data": {
      "text/plain": [
       "[{'id': 2, 'description': 'Single-player'},\n",
       " {'id': 22, 'description': 'Steam Achievements'}]"
      ]
     },
     "execution_count": 167,
     "metadata": {},
     "output_type": "execute_result"
    }
   ],
   "source": [
    "test_ach[3][\"categories\"]"
   ]
  },
  {
   "cell_type": "code",
   "execution_count": 136,
   "metadata": {},
   "outputs": [
    {
     "data": {
      "text/plain": [
       "[{'id': 2, 'description': 'Single-player'},\n",
       " {'id': 22, 'description': 'Steam Achievements'}]"
      ]
     },
     "execution_count": 136,
     "metadata": {},
     "output_type": "execute_result"
    }
   ],
   "source": [
    "cleaned_15k[3][\"categories\"]"
   ]
  },
  {
   "cell_type": "code",
   "execution_count": 206,
   "metadata": {},
   "outputs": [],
   "source": [
    "\n",
    "test_ach = get_achievement_total(cleaned_15k)"
   ]
  },
  {
   "cell_type": "code",
   "execution_count": null,
   "metadata": {},
   "outputs": [],
   "source": [
    "get_total_from_dic()"
   ]
  },
  {
   "cell_type": "code",
   "execution_count": 162,
   "metadata": {},
   "outputs": [
    {
     "data": {
      "text/plain": [
       "[{'id': '1', 'description': 'Action'},\n",
       " {'id': '25', 'description': 'Adventure'},\n",
       " {'id': '23', 'description': 'Indie'}]"
      ]
     },
     "execution_count": 162,
     "metadata": {},
     "output_type": "execute_result"
    }
   ],
   "source": [
    "test_ach[3][\"genres\"]"
   ]
  },
  {
   "cell_type": "code",
   "execution_count": 137,
   "metadata": {},
   "outputs": [
    {
     "data": {
      "text/plain": [
       "{'total': 10,\n",
       " 'highlighted': [{'name': 'Church',\n",
       "   'path': 'https://steamcdn-a.akamaihd.net/steamcommunity/public/images/apps/1013660/c9d1c560f894f154753a62a80a04b72ba87f517a.jpg'},\n",
       "  {'name': 'Compass',\n",
       "   'path': 'https://steamcdn-a.akamaihd.net/steamcommunity/public/images/apps/1013660/84591f64fee05aabcadf8fe2fdbf49c083aed054.jpg'},\n",
       "  {'name': 'Craft Machine',\n",
       "   'path': 'https://steamcdn-a.akamaihd.net/steamcommunity/public/images/apps/1013660/3e8589ab4f97929d50af7d297738734b7d8a917f.jpg'},\n",
       "  {'name': 'Gas Mask',\n",
       "   'path': 'https://steamcdn-a.akamaihd.net/steamcommunity/public/images/apps/1013660/6546b0ab6611cdc9842b49f39baa342a897bca94.jpg'},\n",
       "  {'name': 'Gears',\n",
       "   'path': 'https://steamcdn-a.akamaihd.net/steamcommunity/public/images/apps/1013660/eaf8f1d66afc6e92734a71bece489939884dd517.jpg'},\n",
       "  {'name': 'Hospital',\n",
       "   'path': 'https://steamcdn-a.akamaihd.net/steamcommunity/public/images/apps/1013660/8438b1580591188043ab433fa8bceb273dc6d6b2.jpg'},\n",
       "  {'name': 'Military Hostel',\n",
       "   'path': 'https://steamcdn-a.akamaihd.net/steamcommunity/public/images/apps/1013660/5b2377741887f60bbc05c8005243cff35c403e8a.jpg'},\n",
       "  {'name': 'Mind Master',\n",
       "   'path': 'https://steamcdn-a.akamaihd.net/steamcommunity/public/images/apps/1013660/7a07172d9b2c63f911b1d5d14b396ef5081a7cbd.jpg'},\n",
       "  {'name': 'Mine Detector',\n",
       "   'path': 'https://steamcdn-a.akamaihd.net/steamcommunity/public/images/apps/1013660/a4da07740253acd0023d17f0d4321b0b875e4607.jpg'},\n",
       "  {'name': 'Laundry',\n",
       "   'path': 'https://steamcdn-a.akamaihd.net/steamcommunity/public/images/apps/1013660/7f531a64b4b48e608486365bc004588be5bfcb06.jpg'}]}"
      ]
     },
     "execution_count": 137,
     "metadata": {},
     "output_type": "execute_result"
    }
   ],
   "source": [
    "cleaned_15k[3][\"achievements\"]"
   ]
  },
  {
   "cell_type": "code",
   "execution_count": 79,
   "metadata": {},
   "outputs": [],
   "source": [
    "c_data = pd.DataFrame(cleaned_15k)"
   ]
  },
  {
   "cell_type": "code",
   "execution_count": null,
   "metadata": {},
   "outputs": [],
   "source": []
  },
  {
   "cell_type": "code",
   "execution_count": null,
   "metadata": {},
   "outputs": [],
   "source": []
  },
  {
   "cell_type": "code",
   "execution_count": 259,
   "metadata": {},
   "outputs": [
    {
     "data": {
      "text/plain": [
       "Index(['about_the_game', 'achievements', 'categories', 'demos', 'developers',\n",
       "       'dlc', 'genres', 'is_free', 'metacritic', 'name', 'pc_requirements',\n",
       "       'platforms', 'price_overview', 'publishers', 'recommendations',\n",
       "       'release_date', 'required_age', 'reviews', 'steam_appid',\n",
       "       'supported_languages', 'type'],\n",
       "      dtype='object')"
      ]
     },
     "execution_count": 259,
     "metadata": {},
     "output_type": "execute_result"
    }
   ],
   "source": [
    "c_data.columns"
   ]
  },
  {
   "cell_type": "code",
   "execution_count": 286,
   "metadata": {},
   "outputs": [
    {
     "data": {
      "text/plain": [
       "0        {'coming_soon': True, 'date': 'Coming soon™'}\n",
       "1       {'coming_soon': False, 'date': 'Feb 11, 2019'}\n",
       "2        {'coming_soon': False, 'date': 'Mar 1, 2019'}\n",
       "3       {'coming_soon': False, 'date': 'Mar 11, 2019'}\n",
       "4        {'coming_soon': False, 'date': 'Feb 3, 2019'}\n",
       "5        {'coming_soon': False, 'date': 'Feb 8, 2019'}\n",
       "6       {'coming_soon': False, 'date': 'Jan 23, 2019'}\n",
       "7       {'coming_soon': False, 'date': 'Mar 11, 2019'}\n",
       "8       {'coming_soon': False, 'date': 'Mar 12, 2019'}\n",
       "9        {'coming_soon': True, 'date': 'May 22, 2019'}\n",
       "10        {'coming_soon': True, 'date': 'Coming Soon'}\n",
       "11      {'coming_soon': False, 'date': 'Jan 25, 2019'}\n",
       "12       {'coming_soon': False, 'date': 'Feb 7, 2019'}\n",
       "13       {'coming_soon': False, 'date': 'Feb 6, 2019'}\n",
       "14      {'coming_soon': False, 'date': 'Feb 25, 2019'}\n",
       "15       {'coming_soon': False, 'date': 'Mar 7, 2019'}\n",
       "16      {'coming_soon': False, 'date': 'Jan 31, 2019'}\n",
       "17      {'coming_soon': False, 'date': 'Jan 30, 2019'}\n",
       "18      {'coming_soon': False, 'date': 'Feb 22, 2019'}\n",
       "19      {'coming_soon': False, 'date': 'Jan 26, 2019'}\n",
       "20       {'coming_soon': False, 'date': 'Feb 2, 2019'}\n",
       "21      {'coming_soon': False, 'date': 'Jan 31, 2019'}\n",
       "22       {'coming_soon': False, 'date': 'Feb 5, 2019'}\n",
       "23      {'coming_soon': False, 'date': 'Jan 30, 2019'}\n",
       "24      {'coming_soon': False, 'date': 'Jan 30, 2019'}\n",
       "25      {'coming_soon': False, 'date': 'Jan 30, 2019'}\n",
       "26      {'coming_soon': False, 'date': 'Jan 30, 2019'}\n",
       "27      {'coming_soon': False, 'date': 'Jan 14, 2019'}\n",
       "28      {'coming_soon': False, 'date': 'Mar 13, 2019'}\n",
       "29      {'coming_soon': False, 'date': 'Jan 28, 2019'}\n",
       "                             ...                      \n",
       "4491    {'coming_soon': False, 'date': 'Apr 19, 2017'}\n",
       "4492    {'coming_soon': False, 'date': 'Apr 19, 2017'}\n",
       "4493    {'coming_soon': False, 'date': 'Apr 19, 2017'}\n",
       "4494    {'coming_soon': False, 'date': 'Apr 19, 2017'}\n",
       "4495    {'coming_soon': False, 'date': 'Apr 19, 2017'}\n",
       "4496    {'coming_soon': False, 'date': 'Apr 19, 2017'}\n",
       "4497    {'coming_soon': False, 'date': 'Apr 19, 2017'}\n",
       "4498    {'coming_soon': False, 'date': 'Apr 19, 2017'}\n",
       "4499    {'coming_soon': False, 'date': 'Apr 19, 2017'}\n",
       "4500    {'coming_soon': False, 'date': 'Apr 19, 2017'}\n",
       "4501     {'coming_soon': False, 'date': 'Mar 7, 2017'}\n",
       "4502    {'coming_soon': False, 'date': 'May 29, 2017'}\n",
       "4503    {'coming_soon': False, 'date': 'Mar 14, 2017'}\n",
       "4504    {'coming_soon': False, 'date': 'Apr 24, 2017'}\n",
       "4505     {'coming_soon': False, 'date': 'Mar 8, 2017'}\n",
       "4506     {'coming_soon': False, 'date': 'Mar 8, 2017'}\n",
       "4507    {'coming_soon': False, 'date': 'Mar 15, 2017'}\n",
       "4508     {'coming_soon': False, 'date': 'Mar 7, 2017'}\n",
       "4509     {'coming_soon': False, 'date': 'Mar 7, 2017'}\n",
       "4510     {'coming_soon': False, 'date': 'Mar 7, 2017'}\n",
       "4511    {'coming_soon': False, 'date': 'Mar 11, 2017'}\n",
       "4512    {'coming_soon': False, 'date': 'Nov 22, 2017'}\n",
       "4513     {'coming_soon': False, 'date': 'Mar 7, 2017'}\n",
       "4514     {'coming_soon': False, 'date': 'Mar 8, 2017'}\n",
       "4515     {'coming_soon': False, 'date': 'Apr 7, 2017'}\n",
       "4516    {'coming_soon': False, 'date': 'Mar 15, 2017'}\n",
       "4517    {'coming_soon': False, 'date': 'Mar 10, 2017'}\n",
       "4518    {'coming_soon': False, 'date': 'Mar 10, 2017'}\n",
       "4519    {'coming_soon': False, 'date': 'Mar 10, 2017'}\n",
       "4520    {'coming_soon': False, 'date': 'Mar 12, 2017'}\n",
       "Name: release_date, Length: 4521, dtype: object"
      ]
     },
     "execution_count": 286,
     "metadata": {},
     "output_type": "execute_result"
    }
   ],
   "source": [
    "c_data.release_date"
   ]
  },
  {
   "cell_type": "code",
   "execution_count": 324,
   "metadata": {},
   "outputs": [
    {
     "data": {
      "text/html": [
       "<div>\n",
       "<style scoped>\n",
       "    .dataframe tbody tr th:only-of-type {\n",
       "        vertical-align: middle;\n",
       "    }\n",
       "\n",
       "    .dataframe tbody tr th {\n",
       "        vertical-align: top;\n",
       "    }\n",
       "\n",
       "    .dataframe thead th {\n",
       "        text-align: right;\n",
       "    }\n",
       "</style>\n",
       "<table border=\"1\" class=\"dataframe\">\n",
       "  <thead>\n",
       "    <tr style=\"text-align: right;\">\n",
       "      <th></th>\n",
       "      <th>about_the_game</th>\n",
       "      <th>achievements</th>\n",
       "      <th>categories</th>\n",
       "      <th>demos</th>\n",
       "      <th>developers</th>\n",
       "      <th>dlc</th>\n",
       "      <th>genres</th>\n",
       "      <th>is_free</th>\n",
       "      <th>metacritic</th>\n",
       "      <th>name</th>\n",
       "      <th>...</th>\n",
       "      <th>platforms</th>\n",
       "      <th>price_overview</th>\n",
       "      <th>publishers</th>\n",
       "      <th>recommendations</th>\n",
       "      <th>release_date</th>\n",
       "      <th>required_age</th>\n",
       "      <th>reviews</th>\n",
       "      <th>steam_appid</th>\n",
       "      <th>supported_languages</th>\n",
       "      <th>type</th>\n",
       "    </tr>\n",
       "  </thead>\n",
       "  <tbody>\n",
       "    <tr>\n",
       "      <th>0</th>\n",
       "      <td>&lt;i&gt;&amp;quot;I’m a 90s kid who didn’t get the chan...</td>\n",
       "      <td>NaN</td>\n",
       "      <td>[{'id': 2, 'description': 'Single-player'}, {'...</td>\n",
       "      <td>[{'appid': 1019840, 'description': ''}]</td>\n",
       "      <td>[The Midnight Team]</td>\n",
       "      <td>NaN</td>\n",
       "      <td>[{'id': '1', 'description': 'Action'}, {'id': ...</td>\n",
       "      <td>False</td>\n",
       "      <td>NaN</td>\n",
       "      <td>Starxium 20XX</td>\n",
       "      <td>...</td>\n",
       "      <td>{'windows': True, 'mac': False, 'linux': False}</td>\n",
       "      <td>NaN</td>\n",
       "      <td>[The Midnight Team]</td>\n",
       "      <td>NaN</td>\n",
       "      <td>{'coming_soon': True, 'date': 'Coming soon™'}</td>\n",
       "      <td>0</td>\n",
       "      <td>NaN</td>\n",
       "      <td>1013560</td>\n",
       "      <td>English</td>\n",
       "      <td>game</td>\n",
       "    </tr>\n",
       "    <tr>\n",
       "      <th>1</th>\n",
       "      <td>Akagi Ai is unexpectedly stabbed on her way ho...</td>\n",
       "      <td>{'total': 15, 'highlighted': [{'name': 'Stabbe...</td>\n",
       "      <td>[{'id': 2, 'description': 'Single-player'}, {'...</td>\n",
       "      <td>NaN</td>\n",
       "      <td>[John Ohno]</td>\n",
       "      <td>NaN</td>\n",
       "      <td>[{'id': '4', 'description': 'Casual'}, {'id': ...</td>\n",
       "      <td>False</td>\n",
       "      <td>NaN</td>\n",
       "      <td>Manna for our Malices</td>\n",
       "      <td>...</td>\n",
       "      <td>{'windows': True, 'mac': True, 'linux': True}</td>\n",
       "      <td>{'currency': 'USD', 'initial': 499, 'final': 4...</td>\n",
       "      <td>[Double Mojo]</td>\n",
       "      <td>NaN</td>\n",
       "      <td>{'coming_soon': False, 'date': 'Feb 11, 2019'}</td>\n",
       "      <td>0</td>\n",
       "      <td>NaN</td>\n",
       "      <td>1013580</td>\n",
       "      <td>English</td>\n",
       "      <td>game</td>\n",
       "    </tr>\n",
       "    <tr>\n",
       "      <th>2</th>\n",
       "      <td>Hop into a classic Game Boy inspired metroidva...</td>\n",
       "      <td>{'total': 18, 'highlighted': [{'name': 'Nimble...</td>\n",
       "      <td>[{'id': 2, 'description': 'Single-player'}, {'...</td>\n",
       "      <td>NaN</td>\n",
       "      <td>[Adventure Islands]</td>\n",
       "      <td>NaN</td>\n",
       "      <td>[{'id': '1', 'description': 'Action'}, {'id': ...</td>\n",
       "      <td>False</td>\n",
       "      <td>NaN</td>\n",
       "      <td>Tiny Dangerous Dungeons</td>\n",
       "      <td>...</td>\n",
       "      <td>{'windows': True, 'mac': True, 'linux': False}</td>\n",
       "      <td>{'currency': 'USD', 'initial': 499, 'final': 4...</td>\n",
       "      <td>[Adventure Islands]</td>\n",
       "      <td>NaN</td>\n",
       "      <td>{'coming_soon': False, 'date': 'Mar 1, 2019'}</td>\n",
       "      <td>0</td>\n",
       "      <td>NaN</td>\n",
       "      <td>1013650</td>\n",
       "      <td>English</td>\n",
       "      <td>game</td>\n",
       "    </tr>\n",
       "    <tr>\n",
       "      <th>3</th>\n",
       "      <td>&amp;quot;Pursuer&amp;quot; - psychological horror in ...</td>\n",
       "      <td>{'total': 10, 'highlighted': [{'name': 'Church...</td>\n",
       "      <td>[{'id': 2, 'description': 'Single-player'}, {'...</td>\n",
       "      <td>NaN</td>\n",
       "      <td>[TheBlavas]</td>\n",
       "      <td>NaN</td>\n",
       "      <td>[{'id': '1', 'description': 'Action'}, {'id': ...</td>\n",
       "      <td>False</td>\n",
       "      <td>NaN</td>\n",
       "      <td>Pursuer</td>\n",
       "      <td>...</td>\n",
       "      <td>{'windows': True, 'mac': False, 'linux': False}</td>\n",
       "      <td>{'currency': 'USD', 'initial': 1399, 'final': ...</td>\n",
       "      <td>[TheBlavas]</td>\n",
       "      <td>NaN</td>\n",
       "      <td>{'coming_soon': False, 'date': 'Mar 11, 2019'}</td>\n",
       "      <td>0</td>\n",
       "      <td>NaN</td>\n",
       "      <td>1013660</td>\n",
       "      <td>English&lt;strong&gt;*&lt;/strong&gt;&lt;br&gt;&lt;strong&gt;*&lt;/strong...</td>\n",
       "      <td>game</td>\n",
       "    </tr>\n",
       "    <tr>\n",
       "      <th>4</th>\n",
       "      <td>The Saint Paul Multiplayer game is in pre-Alph...</td>\n",
       "      <td>{'total': 0}</td>\n",
       "      <td>[{'id': 1, 'description': 'Multi-player'}, {'i...</td>\n",
       "      <td>NaN</td>\n",
       "      <td>[Cleyton Jonnas da Silva]</td>\n",
       "      <td>NaN</td>\n",
       "      <td>[{'id': '1', 'description': 'Action'}, {'id': ...</td>\n",
       "      <td>False</td>\n",
       "      <td>NaN</td>\n",
       "      <td>Saint Paul Pre-Alpha</td>\n",
       "      <td>...</td>\n",
       "      <td>{'windows': True, 'mac': False, 'linux': False}</td>\n",
       "      <td>NaN</td>\n",
       "      <td>[Saint Paul Studios]</td>\n",
       "      <td>NaN</td>\n",
       "      <td>{'coming_soon': False, 'date': 'Feb 3, 2019'}</td>\n",
       "      <td>0</td>\n",
       "      <td>NaN</td>\n",
       "      <td>1013680</td>\n",
       "      <td>English&lt;strong&gt;*&lt;/strong&gt;, Portuguese - Brazil...</td>\n",
       "      <td>game</td>\n",
       "    </tr>\n",
       "  </tbody>\n",
       "</table>\n",
       "<p>5 rows × 21 columns</p>\n",
       "</div>"
      ],
      "text/plain": [
       "                                      about_the_game  \\\n",
       "0  <i>&quot;I’m a 90s kid who didn’t get the chan...   \n",
       "1  Akagi Ai is unexpectedly stabbed on her way ho...   \n",
       "2  Hop into a classic Game Boy inspired metroidva...   \n",
       "3  &quot;Pursuer&quot; - psychological horror in ...   \n",
       "4  The Saint Paul Multiplayer game is in pre-Alph...   \n",
       "\n",
       "                                        achievements  \\\n",
       "0                                                NaN   \n",
       "1  {'total': 15, 'highlighted': [{'name': 'Stabbe...   \n",
       "2  {'total': 18, 'highlighted': [{'name': 'Nimble...   \n",
       "3  {'total': 10, 'highlighted': [{'name': 'Church...   \n",
       "4                                       {'total': 0}   \n",
       "\n",
       "                                          categories  \\\n",
       "0  [{'id': 2, 'description': 'Single-player'}, {'...   \n",
       "1  [{'id': 2, 'description': 'Single-player'}, {'...   \n",
       "2  [{'id': 2, 'description': 'Single-player'}, {'...   \n",
       "3  [{'id': 2, 'description': 'Single-player'}, {'...   \n",
       "4  [{'id': 1, 'description': 'Multi-player'}, {'i...   \n",
       "\n",
       "                                     demos                 developers  dlc  \\\n",
       "0  [{'appid': 1019840, 'description': ''}]        [The Midnight Team]  NaN   \n",
       "1                                      NaN                [John Ohno]  NaN   \n",
       "2                                      NaN        [Adventure Islands]  NaN   \n",
       "3                                      NaN                [TheBlavas]  NaN   \n",
       "4                                      NaN  [Cleyton Jonnas da Silva]  NaN   \n",
       "\n",
       "                                              genres  is_free metacritic  \\\n",
       "0  [{'id': '1', 'description': 'Action'}, {'id': ...    False        NaN   \n",
       "1  [{'id': '4', 'description': 'Casual'}, {'id': ...    False        NaN   \n",
       "2  [{'id': '1', 'description': 'Action'}, {'id': ...    False        NaN   \n",
       "3  [{'id': '1', 'description': 'Action'}, {'id': ...    False        NaN   \n",
       "4  [{'id': '1', 'description': 'Action'}, {'id': ...    False        NaN   \n",
       "\n",
       "                      name  ...   \\\n",
       "0            Starxium 20XX  ...    \n",
       "1    Manna for our Malices  ...    \n",
       "2  Tiny Dangerous Dungeons  ...    \n",
       "3                  Pursuer  ...    \n",
       "4     Saint Paul Pre-Alpha  ...    \n",
       "\n",
       "                                         platforms  \\\n",
       "0  {'windows': True, 'mac': False, 'linux': False}   \n",
       "1    {'windows': True, 'mac': True, 'linux': True}   \n",
       "2   {'windows': True, 'mac': True, 'linux': False}   \n",
       "3  {'windows': True, 'mac': False, 'linux': False}   \n",
       "4  {'windows': True, 'mac': False, 'linux': False}   \n",
       "\n",
       "                                      price_overview            publishers  \\\n",
       "0                                                NaN   [The Midnight Team]   \n",
       "1  {'currency': 'USD', 'initial': 499, 'final': 4...         [Double Mojo]   \n",
       "2  {'currency': 'USD', 'initial': 499, 'final': 4...   [Adventure Islands]   \n",
       "3  {'currency': 'USD', 'initial': 1399, 'final': ...           [TheBlavas]   \n",
       "4                                                NaN  [Saint Paul Studios]   \n",
       "\n",
       "  recommendations                                    release_date  \\\n",
       "0             NaN   {'coming_soon': True, 'date': 'Coming soon™'}   \n",
       "1             NaN  {'coming_soon': False, 'date': 'Feb 11, 2019'}   \n",
       "2             NaN   {'coming_soon': False, 'date': 'Mar 1, 2019'}   \n",
       "3             NaN  {'coming_soon': False, 'date': 'Mar 11, 2019'}   \n",
       "4             NaN   {'coming_soon': False, 'date': 'Feb 3, 2019'}   \n",
       "\n",
       "  required_age reviews steam_appid  \\\n",
       "0            0     NaN     1013560   \n",
       "1            0     NaN     1013580   \n",
       "2            0     NaN     1013650   \n",
       "3            0     NaN     1013660   \n",
       "4            0     NaN     1013680   \n",
       "\n",
       "                                 supported_languages  type  \n",
       "0                                            English  game  \n",
       "1                                            English  game  \n",
       "2                                            English  game  \n",
       "3  English<strong>*</strong><br><strong>*</strong...  game  \n",
       "4  English<strong>*</strong>, Portuguese - Brazil...  game  \n",
       "\n",
       "[5 rows x 21 columns]"
      ]
     },
     "execution_count": 324,
     "metadata": {},
     "output_type": "execute_result"
    }
   ],
   "source": [
    "c_data.head()"
   ]
  },
  {
   "cell_type": "code",
   "execution_count": 370,
   "metadata": {},
   "outputs": [
    {
     "data": {
      "text/plain": [
       "19.99"
      ]
     },
     "execution_count": 370,
     "metadata": {},
     "output_type": "execute_result"
    }
   ],
   "source": [
    "round(1999*.01, 2)"
   ]
  },
  {
   "cell_type": "code",
   "execution_count": 395,
   "metadata": {},
   "outputs": [
    {
     "data": {
      "text/plain": [
       "0                                                     NaN\n",
       "1                                                     NaN\n",
       "2                                                     NaN\n",
       "3                                                     NaN\n",
       "4                                                     NaN\n",
       "5                                                     NaN\n",
       "6                                                     NaN\n",
       "7                                                     NaN\n",
       "8                                                     NaN\n",
       "9                                                     NaN\n",
       "10                                                    NaN\n",
       "11                                                    NaN\n",
       "12                                                    NaN\n",
       "13                                                    NaN\n",
       "14                                                    NaN\n",
       "15      “It’s time to become ... a hamster”<br><a href...\n",
       "16                                                    NaN\n",
       "17                                                    NaN\n",
       "18                                                    NaN\n",
       "19                                                    NaN\n",
       "20                                                    NaN\n",
       "21                                                    NaN\n",
       "22                                                    NaN\n",
       "23                                                    NaN\n",
       "24                                                    NaN\n",
       "25                                                    NaN\n",
       "26                                                    NaN\n",
       "27                                                    NaN\n",
       "28                                                    NaN\n",
       "29                                                    NaN\n",
       "                              ...                        \n",
       "4491                                                  NaN\n",
       "4492                                                  NaN\n",
       "4493                                                  NaN\n",
       "4494                                                  NaN\n",
       "4495                                                  NaN\n",
       "4496                                                  NaN\n",
       "4497                                                  NaN\n",
       "4498                                                  NaN\n",
       "4499                                                  NaN\n",
       "4500                                                  NaN\n",
       "4501                                                  NaN\n",
       "4502                                                  NaN\n",
       "4503                                                  NaN\n",
       "4504                                                  NaN\n",
       "4505                                                  NaN\n",
       "4506                                                  NaN\n",
       "4507                                                  NaN\n",
       "4508                                                  NaN\n",
       "4509                                                  NaN\n",
       "4510                                                  NaN\n",
       "4511    10 – <a href=\"https://steamcommunity.com/linkf...\n",
       "4512    “Dark Blood Chronicles is a game that has some...\n",
       "4513                                                  NaN\n",
       "4514                                                  NaN\n",
       "4515    “Breaking a sweat is a guarantee”<br>3/5 – <a ...\n",
       "4516                                                  NaN\n",
       "4517                                                  NaN\n",
       "4518                                                  NaN\n",
       "4519                                                  NaN\n",
       "4520                                                  NaN\n",
       "Name: reviews, Length: 4521, dtype: object"
      ]
     },
     "execution_count": 395,
     "metadata": {},
     "output_type": "execute_result"
    }
   ],
   "source": [
    "c_data.reviews"
   ]
  },
  {
   "cell_type": "code",
   "execution_count": 603,
   "metadata": {},
   "outputs": [
    {
     "data": {
      "text/plain": [
       "{'332190': {'success': False}}"
      ]
     },
     "execution_count": 603,
     "metadata": {},
     "output_type": "execute_result"
    }
   ],
   "source": [
    "get_game_info('332190')"
   ]
  },
  {
   "cell_type": "code",
   "execution_count": 24,
   "metadata": {},
   "outputs": [
    {
     "name": "stdout",
     "output_type": "stream",
     "text": [
      "0 1\n",
      "1 2\n",
      "2 3\n",
      "3 3.5\n"
     ]
    }
   ],
   "source": [
    "for num, game in enumerate(x):\n",
    "    print(num, game)"
   ]
  },
  {
   "cell_type": "code",
   "execution_count": 601,
   "metadata": {
    "scrolled": true
   },
   "outputs": [
    {
     "data": {
      "text/plain": [
       "{'appid': 332190, 'name': 'Happy Wars - Customizable Parts A'}"
      ]
     },
     "execution_count": 601,
     "metadata": {},
     "output_type": "execute_result"
    }
   ],
   "source": [
    "games[1]"
   ]
  },
  {
   "cell_type": "code",
   "execution_count": 590,
   "metadata": {},
   "outputs": [],
   "source": [
    "lst1"
   ]
  },
  {
   "cell_type": "code",
   "execution_count": 612,
   "metadata": {},
   "outputs": [],
   "source": [
    "# data_df_clean.to_csv(\"cleaned_v1\")"
   ]
  },
  {
   "cell_type": "code",
   "execution_count": 522,
   "metadata": {},
   "outputs": [
    {
     "data": {
      "text/plain": [
       "1"
      ]
     },
     "execution_count": 522,
     "metadata": {},
     "output_type": "execute_result"
    }
   ],
   "source": [
    "len(data_from_steam[1])"
   ]
  },
  {
   "cell_type": "code",
   "execution_count": 505,
   "metadata": {},
   "outputs": [],
   "source": [
    "x = [12,3,3]"
   ]
  },
  {
   "cell_type": "code",
   "execution_count": 459,
   "metadata": {},
   "outputs": [
    {
     "data": {
      "text/plain": [
       "1100"
      ]
     },
     "execution_count": 459,
     "metadata": {},
     "output_type": "execute_result"
    }
   ],
   "source": [
    "len(games[:1100])"
   ]
  },
  {
   "cell_type": "code",
   "execution_count": 514,
   "metadata": {},
   "outputs": [
    {
     "data": {
      "text/plain": [
       "{'332150': {'data': {'type': 'game',\n",
       "   'name': 'LEVEL UP!',\n",
       "   'steam_appid': 332150,\n",
       "   'required_age': 0,\n",
       "   'is_free': False,\n",
       "   'detailed_description': \"In this side-scrolling platformer/shooter with finely destructible levels and bosses you level up your character by literally going up to the next level. Each level-up earns you some points to spend on upgrades: more health, firepower, new weapons, skills, etc. Also it's made of voxels, so you can destroy walls and dig tunnels or trenches to hide from enemy fire, and blast holes in huge bosses to get to the vulnerable spots inside them.\",\n",
       "   'about_the_game': \"In this side-scrolling platformer/shooter with finely destructible levels and bosses you level up your character by literally going up to the next level. Each level-up earns you some points to spend on upgrades: more health, firepower, new weapons, skills, etc. Also it's made of voxels, so you can destroy walls and dig tunnels or trenches to hide from enemy fire, and blast holes in huge bosses to get to the vulnerable spots inside them.\",\n",
       "   'short_description': 'Rogue-like platformer/shooter with destructible levels and bosses, and procedurally generated levels and enemies.',\n",
       "   'supported_languages': 'English',\n",
       "   'header_image': 'https://steamcdn-a.akamaihd.net/steam/apps/332150/header.jpg?t=1447364823',\n",
       "   'website': 'http://ranmantaru.com/games/level-up',\n",
       "   'pc_requirements': {'minimum': '<strong>Minimum:</strong><br><ul class=\"bb_ul\"><li><strong>OS:</strong> Windows XP<br></li><li><strong>Processor:</strong> Pentium 4, Athlon 64<br></li><li><strong>Memory:</strong> 1 GB RAM<br></li><li><strong>Graphics:</strong> card with shader model 2 support<br></li><li><strong>DirectX:</strong> Version 9.0c</li></ul>',\n",
       "    'recommended': '<strong>Recommended:</strong><br><ul class=\"bb_ul\"><li><strong>OS:</strong> Windows Vista or newer<br></li><li><strong>Processor:</strong> 2 cores or better<br></li><li><strong>Memory:</strong> 4 GB RAM<br></li><li><strong>Graphics:</strong> DirectX 10 class card or better<br></li><li><strong>DirectX:</strong> Version 9.0c</li></ul>'},\n",
       "   'mac_requirements': [],\n",
       "   'linux_requirements': [],\n",
       "   'developers': ['Ranmantaru Games'],\n",
       "   'publishers': ['Ranmantaru Games'],\n",
       "   'demos': [{'appid': 334860, 'description': ''}],\n",
       "   'price_overview': {'currency': 'USD',\n",
       "    'initial': 999,\n",
       "    'final': 999,\n",
       "    'discount_percent': 0,\n",
       "    'initial_formatted': '',\n",
       "    'final_formatted': '$9.99'},\n",
       "   'packages': [54181],\n",
       "   'package_groups': [{'name': 'default',\n",
       "     'title': 'Buy LEVEL UP!',\n",
       "     'description': '',\n",
       "     'selection_text': 'Select a purchase option',\n",
       "     'save_text': '',\n",
       "     'display_type': 0,\n",
       "     'is_recurring_subscription': 'false',\n",
       "     'subs': [{'packageid': 54181,\n",
       "       'percent_savings_text': '',\n",
       "       'percent_savings': 0,\n",
       "       'option_text': 'LEVEL UP! - $9.99',\n",
       "       'option_description': '',\n",
       "       'can_get_free_license': '0',\n",
       "       'is_free_license': False,\n",
       "       'price_in_cents_with_discount': 999}]}],\n",
       "   'platforms': {'windows': True, 'mac': False, 'linux': False},\n",
       "   'categories': [{'id': 2, 'description': 'Single-player'}],\n",
       "   'genres': [{'id': '1', 'description': 'Action'},\n",
       "    {'id': '23', 'description': 'Indie'},\n",
       "    {'id': '70', 'description': 'Early Access'}],\n",
       "   'screenshots': [{'id': 0,\n",
       "     'path_thumbnail': 'https://steamcdn-a.akamaihd.net/steam/apps/332150/ss_51591e4ad00e192b49beededed248e74c559b1da.600x338.jpg?t=1447364823',\n",
       "     'path_full': 'https://steamcdn-a.akamaihd.net/steam/apps/332150/ss_51591e4ad00e192b49beededed248e74c559b1da.1920x1080.jpg?t=1447364823'},\n",
       "    {'id': 1,\n",
       "     'path_thumbnail': 'https://steamcdn-a.akamaihd.net/steam/apps/332150/ss_f48ad31954bede374b3588f3e352978e0a922df5.600x338.jpg?t=1447364823',\n",
       "     'path_full': 'https://steamcdn-a.akamaihd.net/steam/apps/332150/ss_f48ad31954bede374b3588f3e352978e0a922df5.1920x1080.jpg?t=1447364823'},\n",
       "    {'id': 2,\n",
       "     'path_thumbnail': 'https://steamcdn-a.akamaihd.net/steam/apps/332150/ss_187c2462973c3e691f90855efde25b4dc954c231.600x338.jpg?t=1447364823',\n",
       "     'path_full': 'https://steamcdn-a.akamaihd.net/steam/apps/332150/ss_187c2462973c3e691f90855efde25b4dc954c231.1920x1080.jpg?t=1447364823'},\n",
       "    {'id': 3,\n",
       "     'path_thumbnail': 'https://steamcdn-a.akamaihd.net/steam/apps/332150/ss_ad7afdafc2bb1afae8ff75431083181c7d91cc22.600x338.jpg?t=1447364823',\n",
       "     'path_full': 'https://steamcdn-a.akamaihd.net/steam/apps/332150/ss_ad7afdafc2bb1afae8ff75431083181c7d91cc22.1920x1080.jpg?t=1447364823'},\n",
       "    {'id': 4,\n",
       "     'path_thumbnail': 'https://steamcdn-a.akamaihd.net/steam/apps/332150/ss_456a83aa2c9fc95a3e056b40d0bf2665d09b1d58.600x338.jpg?t=1447364823',\n",
       "     'path_full': 'https://steamcdn-a.akamaihd.net/steam/apps/332150/ss_456a83aa2c9fc95a3e056b40d0bf2665d09b1d58.1920x1080.jpg?t=1447364823'}],\n",
       "   'movies': [{'id': 2035784,\n",
       "     'name': 'Gameplay video',\n",
       "     'thumbnail': 'https://steamcdn-a.akamaihd.net/steam/apps/2035784/movie.293x165.jpg?t=1447365385',\n",
       "     'webm': {'480': 'http://steamcdn-a.akamaihd.net/steam/apps/2035784/movie480.webm?t=1447365385',\n",
       "      'max': 'http://steamcdn-a.akamaihd.net/steam/apps/2035784/movie_max.webm?t=1447365385'},\n",
       "     'highlight': True}],\n",
       "   'achievements': {'total': 0},\n",
       "   'release_date': {'coming_soon': False, 'date': 'Nov 24, 2014'},\n",
       "   'support_info': {'url': '', 'email': 'support@ranmantaru.com'},\n",
       "   'background': 'https://steamcdn-a.akamaihd.net/steam/apps/332150/page_bg_generated_v6b.jpg?t=1447364823',\n",
       "   'content_descriptors': {'ids': [], 'notes': None}}}}"
      ]
     },
     "execution_count": 514,
     "metadata": {},
     "output_type": "execute_result"
    }
   ],
   "source": [
    "data_from_steam[0]"
   ]
  },
  {
   "cell_type": "code",
   "execution_count": null,
   "metadata": {},
   "outputs": [],
   "source": []
  }
 ],
 "metadata": {
  "kernelspec": {
   "display_name": "Python 3",
   "language": "python",
   "name": "python3"
  },
  "language_info": {
   "codemirror_mode": {
    "name": "ipython",
    "version": 3
   },
   "file_extension": ".py",
   "mimetype": "text/x-python",
   "name": "python",
   "nbconvert_exporter": "python",
   "pygments_lexer": "ipython3",
   "version": "3.7.1"
  }
 },
 "nbformat": 4,
 "nbformat_minor": 2
}
